{
 "cells": [
  {
   "cell_type": "markdown",
   "id": "ae578ec4",
   "metadata": {},
   "source": [
    "# Задание 4"
   ]
  },
  {
   "cell_type": "code",
   "execution_count": 11,
   "id": "257bc7d0",
   "metadata": {},
   "outputs": [],
   "source": [
    "import numpy as np\n",
    "import random\n",
    "from matplotlib import pyplot as plt"
   ]
  },
  {
   "cell_type": "code",
   "execution_count": 12,
   "id": "3328082d",
   "metadata": {},
   "outputs": [
    {
     "name": "stdout",
     "output_type": "stream",
     "text": [
      "[11.70468187 13.45174577 13.9314454  17.16288289 18.23506413 19.60246276\n",
      " 10.93976537 18.50898451 12.94332757 10.66052442 14.98816979 17.71232822\n",
      " 11.52655461 13.35536808 10.51482183 12.12125479 17.60120352 16.87117434\n",
      " 11.92102656 17.90502262 19.90463575 10.60269175 19.63925598 15.6767147\n",
      " 17.60852576 19.74730232 19.85716638 19.57111816 15.86008498 16.46164476\n",
      " 17.1340336  15.1606716  16.71020292 12.15983387 12.11038357 10.31155322\n",
      " 14.53007707 17.75206656 17.94222059 14.13280818 10.15841448 14.51621543\n",
      " 16.88484022 14.01979968 16.94145118 14.89182786 13.81521474 16.88599836\n",
      " 16.47395791 11.96345848 14.08436119 19.4160791  10.1371676  17.52518184\n",
      " 16.11008286 17.08385391 16.1801301  12.47207128 18.08667163 13.70863468\n",
      " 19.58652234 13.47256776 13.42887686 15.45437576 13.664966   18.19928501\n",
      " 10.55203338 19.65948386 19.581678   17.33560764 14.92005106 12.99668941\n",
      " 17.3155409  17.20895053 10.46165133 12.55337289 18.45539515 16.7328602\n",
      " 17.3571414  10.88036503 12.34055541 10.78559197 19.28778607 13.36013666\n",
      " 13.64139165 12.49965337 12.30109315 19.36774017 18.83952471 16.57301675\n",
      " 13.1080495  10.87710492 14.24291975 10.48452747 10.51607007 13.05884032\n",
      " 13.799561   19.09887236 12.0534603  10.48041907]\n"
     ]
    }
   ],
   "source": [
    "selection_size = 100\n",
    "\n",
    "theta = 10\n",
    "beta = 0.95\n",
    "alpha = 1.0 - beta\n",
    "X = np.array([np.random.uniform(theta, 2*theta) for _ in range(selection_size)])\n",
    "\n",
    "print(X)"
   ]
  },
  {
   "cell_type": "markdown",
   "id": "9dead2aa",
   "metadata": {},
   "source": [
    "### f) Сгенерируйте выборку объема $n = 100$ для некоторого значения параметра $\\theta$. Вычислите указанные выше доверительные интервалы для доверительной вероятности $0.95$."
   ]
  },
  {
   "cell_type": "markdown",
   "id": "d8dfbb1d",
   "metadata": {},
   "source": [
    "Точный доверительный интервал"
   ]
  },
  {
   "cell_type": "code",
   "execution_count": 13,
   "id": "3f323a29",
   "metadata": {},
   "outputs": [
    {
     "name": "stdout",
     "output_type": "stream",
     "text": [
      "(9.95357773150205; 10.13586156870769)\n"
     ]
    }
   ],
   "source": [
    "precise_min = np.max(X) / (1 + (beta + alpha/2)**(1/len(X)))\n",
    "precise_max = np.max(X) / (1 + (alpha/2)**(1/len(X)))\n",
    "\n",
    "print(f'({precise_min}; {precise_max})')"
   ]
  },
  {
   "cell_type": "markdown",
   "id": "2e8bcb52",
   "metadata": {},
   "source": [
    "Асимптотический доверительный интервал (по ОММ)"
   ]
  },
  {
   "cell_type": "code",
   "execution_count": 14,
   "id": "581a9324",
   "metadata": {},
   "outputs": [
    {
     "name": "stdout",
     "output_type": "stream",
     "text": [
      "(9.623190888028972; 10.409075010775705)\n"
     ]
    }
   ],
   "source": [
    "alpha_1 = 1/len(X) * np.sum(X)\n",
    "alpha_2 = 1/len(X) * np.sum([x**2 for x in X])\n",
    "\n",
    "asymptotic_min = 2/3 * alpha_1 - 1.96 * 2/3 * np.sqrt((alpha_2 - alpha_1**2)/len(X))\n",
    "asymptotic_max = 2/3 * alpha_1 + 1.96 * 2/3 * np.sqrt((alpha_2 - alpha_1**2)/len(X))\n",
    "\n",
    "print(f'({asymptotic_min}; {asymptotic_max})')"
   ]
  },
  {
   "cell_type": "markdown",
   "id": "ef3f0cc4",
   "metadata": {},
   "source": [
    "### g) Численно постройте бутстраповский доверительный интервал."
   ]
  },
  {
   "cell_type": "markdown",
   "id": "001e7172",
   "metadata": {},
   "source": [
    "Бутстраповский (непараметрический) доверительный интервал"
   ]
  },
  {
   "cell_type": "code",
   "execution_count": 15,
   "id": "e445b545",
   "metadata": {},
   "outputs": [
    {
     "name": "stdout",
     "output_type": "stream",
     "text": [
      "(9.619832588505364; 10.404470247482582)\n"
     ]
    }
   ],
   "source": [
    "theta_est = lambda X : 2/3 * 1/len(X) * np.sum(X)\n",
    "N = 1000\n",
    "\n",
    "subselections = [[X[random.randint(0,len(X)-1)] for i in range(len(X))] for j in range(N)]\n",
    "deltas = [theta_est(subselections[i]) - theta_est(X) for i in range(N)]\n",
    "deltas = np.sort(deltas)\n",
    "\n",
    "k1 = int(N * (1 - beta) / 2) - 1\n",
    "k2 = int(N * (1 + beta) / 2) - 1\n",
    "\n",
    "nonparametric_bootstrap_min = deltas[k1] + theta_est(X)\n",
    "nonparametric_bootstrap_max = deltas[k2] + theta_est(X)\n",
    "\n",
    "print(f'({nonparametric_bootstrap_min}; {nonparametric_bootstrap_max})')"
   ]
  },
  {
   "cell_type": "markdown",
   "id": "08af45d2",
   "metadata": {},
   "source": [
    "Бутстраповский (параметрический) доверительный интервал"
   ]
  },
  {
   "cell_type": "code",
   "execution_count": 16,
   "id": "c1673817",
   "metadata": {},
   "outputs": [
    {
     "name": "stdout",
     "output_type": "stream",
     "text": [
      "(9.638253617290303; 10.39641378246843)\n"
     ]
    }
   ],
   "source": [
    "theta_est = lambda X : 2/3 * 1/len(X) * np.sum(X)\n",
    "theta_ = theta_est(X)\n",
    "N = 50000\n",
    "\n",
    "subselections = [[np.random.uniform(theta_, 2*theta_) for i in range(len(X))] for j in range(N)]\n",
    "theta_ests = [theta_est(subselections[i]) for i in range(N)]\n",
    "theta_ests = np.sort(theta_ests)\n",
    "\n",
    "k1 = int(N * (1 - beta) / 2) - 1\n",
    "k2 = int(N * (1 + beta) / 2) - 1\n",
    "\n",
    "parametric_bootstrap_min = theta_ests[k1]\n",
    "parametric_bootstrap_max = theta_ests[k2]\n",
    "\n",
    "print(f'({parametric_bootstrap_min}; {parametric_bootstrap_max})')"
   ]
  },
  {
   "cell_type": "markdown",
   "id": "47ea7868",
   "metadata": {},
   "source": [
    "### h) Сравнить все интервалы."
   ]
  },
  {
   "cell_type": "code",
   "execution_count": 22,
   "id": "a32b91c0",
   "metadata": {},
   "outputs": [
    {
     "data": {
      "image/png": "[encoded data removed]",
      "text/plain": [
       "<Figure size 640x480 with 1 Axes>"
      ]
     },
     "metadata": {},
     "output_type": "display_data"
    },
    {
     "data": {
      "text/plain": [
       "<Figure size 640x480 with 0 Axes>"
      ]
     },
     "metadata": {},
     "output_type": "display_data"
    }
   ],
   "source": [
    "I_min = [precise_min, asymptotic_min, parametric_bootstrap_min, nonparametric_bootstrap_min]\n",
    "I_max = [precise_max, asymptotic_max, parametric_bootstrap_max, nonparametric_bootstrap_max]\n",
    "\n",
    "x = [\"Точный\", \"Асимптотический\", \"Bootstrap (пар.)\", \"Bootstrap (непар.)\"]\n",
    "\n",
    "fig, ax = plt.subplots()\n",
    "\n",
    "ax.hlines(x, I_min, I_max, linewidth=5)\n",
    "ax.vlines(theta, 0, len(x)-1, colors=['red'])\n",
    "\n",
    "plt.show()\n",
    "plt.savefig(\"Сравнение доверительных интервалов\")"
   ]
  },
  {
   "cell_type": "code",
   "execution_count": null,
   "id": "0df64c45",
   "metadata": {},
   "outputs": [],
   "source": []
  }
 ],
 "metadata": {
  "kernelspec": {
   "display_name": "Python 3 (ipykernel)",
   "language": "python",
   "name": "python3"
  },
  "language_info": {
   "codemirror_mode": {
    "name": "ipython",
    "version": 3
   },
   "file_extension": ".py",
   "mimetype": "text/x-python",
   "name": "python",
   "nbconvert_exporter": "python",
   "pygments_lexer": "ipython3",
   "version": "3.8.10"
  }
 },
 "nbformat": 4,
 "nbformat_minor": 5
}
