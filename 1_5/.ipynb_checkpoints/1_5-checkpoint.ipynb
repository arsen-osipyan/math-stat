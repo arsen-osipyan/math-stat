{
 "cells": [
  {
   "cell_type": "markdown",
   "id": "21a8c2fb",
   "metadata": {},
   "source": [
    "# Задание 5"
   ]
  },
  {
   "cell_type": "markdown",
   "id": "da312ca3",
   "metadata": {},
   "source": [
    "Случайная величина имеет распределение Парето:\n",
    "\n",
    "$p(x) = \\begin{cases} \\frac{\\theta - 1}{x^\\theta}, x \\ge 1\\\\0, x \\lt 1 \\end{cases}$\n",
    "\n",
    "$\\theta \\gt 1$"
   ]
  },
  {
   "cell_type": "code",
   "execution_count": 1,
   "id": "d15379d9",
   "metadata": {},
   "outputs": [],
   "source": [
    "import numpy as np\n",
    "import random\n",
    "from matplotlib import pyplot as plt"
   ]
  },
  {
   "cell_type": "code",
   "execution_count": 17,
   "id": "a8a656cf",
   "metadata": {},
   "outputs": [
    {
     "name": "stdout",
     "output_type": "stream",
     "text": [
      "[1.81907766e+00 9.18072862e+00 3.85572778e+00 3.84563201e+00\n",
      " 2.23832334e+00 1.24985406e+00 4.63011531e+00 2.12489327e+00\n",
      " 7.83596340e+00 4.16848172e+00 2.45298159e+00 2.89906610e+00\n",
      " 8.75205990e+00 1.63793573e+00 4.15563529e+00 1.05953307e+00\n",
      " 1.25539922e+03 1.70783065e+00 1.05942083e+01 3.70735685e+00\n",
      " 4.07192734e+00 1.49224821e+00 1.01533692e+00 1.97354632e+00\n",
      " 5.30580115e+00 1.17331539e+00 2.29372693e+00 2.26506778e+00\n",
      " 1.18674268e+00 3.26571882e+00 2.08768641e+00 6.54133341e+00\n",
      " 1.91052983e+00 1.18829131e+00 1.12025497e+00 1.08445421e+00\n",
      " 1.01370898e+00 1.51390813e+00 7.72235917e+00 1.38805714e+00\n",
      " 1.52107002e+00 1.50484373e+00 1.84383509e+00 1.15082404e+00\n",
      " 1.07577761e+01 5.06104730e+00 1.38247738e+00 3.61120254e+00\n",
      " 1.23932887e+00 1.20664832e+00 1.70782984e+00 1.70051535e+00\n",
      " 1.90424747e+00 1.03090011e+00 3.66874063e+00 1.60354634e+00\n",
      " 2.62074660e+00 1.08394794e+00 1.13299797e+00 6.55279943e+01\n",
      " 3.25808959e+00 1.27719184e+00 2.03740589e+00 8.72570912e+00\n",
      " 1.39350400e+00 1.18919851e+00 3.02196575e+00 2.68863510e+00\n",
      " 1.04414354e+00 6.16935661e+00 3.08653592e+01 1.02883452e+00\n",
      " 2.42648111e+00 3.16570823e+00 1.57446627e+00 2.38176625e+00\n",
      " 1.39824347e+00 4.41364613e+00 3.69005826e+00 1.82564304e+00\n",
      " 1.89299119e+00 1.28990723e+00 1.13185915e+01 1.11317619e+00\n",
      " 3.13061566e+00 1.37847058e+00 1.70904468e+00 2.10713741e+00\n",
      " 1.05659408e+00 1.59999621e+00 1.83611512e+00 1.08799361e+00\n",
      " 1.07456616e+00 2.70292345e+00 4.77298081e+00 1.45197853e+00\n",
      " 1.41985575e+00 2.26414621e+00 1.57816611e+00 1.25695043e+00]\n"
     ]
    }
   ],
   "source": [
    "selection_size = 100\n",
    "theta = 2\n",
    "beta = 0.95\n",
    "alpha = 1 - beta\n",
    "\n",
    "F = np.array([random.random() for _ in range(selection_size)])\n",
    "X = np.array([(1 / (1 - F[i]))**(1/(theta - 1)) for i in range(selection_size)])\n",
    "\n",
    "print(X)"
   ]
  },
  {
   "cell_type": "markdown",
   "id": "9f162d67",
   "metadata": {},
   "source": [
    "### b) Построить доверительный интервал для медианы"
   ]
  },
  {
   "cell_type": "markdown",
   "id": "bdff0ce6",
   "metadata": {},
   "source": [
    "Бутстраповский (непараметрический) доверительный интервал (оценка медианы через оценку параметра $\\theta$)"
   ]
  },
  {
   "cell_type": "code",
   "execution_count": 15,
   "id": "3d428dbd",
   "metadata": {},
   "outputs": [
    {
     "name": "stdout",
     "output_type": "stream",
     "text": [
      "(1.7592666345575905; 2.2123001798513235)\n"
     ]
    }
   ],
   "source": [
    "theta_est = lambda X : 1 + len(X) / np.sum([np.log(x) for x in X])\n",
    "median_est = lambda X : 2 ** (1 / (theta_est(X) - 1))\n",
    "N = 1000\n",
    "\n",
    "subselections = [[X[random.randint(0,len(X)-1)] for i in range(len(X))] for j in range(N)]\n",
    "deltas = [median_est(subselections[i]) - median_est(X) for i in range(N)]\n",
    "deltas = np.sort(deltas)\n",
    "\n",
    "k1 = int(N * (1 - beta) / 2) - 1\n",
    "k2 = int(N * (1 + beta) / 2) - 1\n",
    "\n",
    "nonparametric_bootstrap_min = deltas[k1] + median_est(X)\n",
    "nonparametric_bootstrap_max = deltas[k2] + median_est(X)\n",
    "\n",
    "print(f'({nonparametric_bootstrap_min}; {nonparametric_bootstrap_max})')"
   ]
  },
  {
   "cell_type": "markdown",
   "id": "63f61816",
   "metadata": {},
   "source": [
    "Бутстраповский (непараметрический) доверительный интервал (оценка медианы через центральный элемент вариационного ряда)"
   ]
  },
  {
   "cell_type": "code",
   "execution_count": 16,
   "id": "3502b8c0",
   "metadata": {},
   "outputs": [
    {
     "name": "stdout",
     "output_type": "stream",
     "text": [
      "(1.6587155689009263; 2.813117815372304)\n"
     ]
    }
   ],
   "source": [
    "median_est = lambda X : np.median(X)\n",
    "N = 1000\n",
    "\n",
    "subselections = [[X[random.randint(0,len(X)-1)] for i in range(len(X))] for j in range(N)]\n",
    "deltas = [median_est(subselections[i]) - median_est(X) for i in range(N)]\n",
    "deltas = np.sort(deltas)\n",
    "\n",
    "k1 = int(N * (1 - beta) / 2) - 1\n",
    "k2 = int(N * (1 + beta) / 2) - 1\n",
    "\n",
    "nonparametric_bootstrap_min = deltas[k1] + median_est(X)\n",
    "nonparametric_bootstrap_max = deltas[k2] + median_est(X)\n",
    "\n",
    "print(f'({nonparametric_bootstrap_min}; {nonparametric_bootstrap_max})')"
   ]
  },
  {
   "cell_type": "code",
   "execution_count": null,
   "id": "54b84f3e",
   "metadata": {},
   "outputs": [],
   "source": []
  }
 ],
 "metadata": {
  "kernelspec": {
   "display_name": "Python 3 (ipykernel)",
   "language": "python",
   "name": "python3"
  },
  "language_info": {
   "codemirror_mode": {
    "name": "ipython",
    "version": 3
   },
   "file_extension": ".py",
   "mimetype": "text/x-python",
   "name": "python",
   "nbconvert_exporter": "python",
   "pygments_lexer": "ipython3",
   "version": "3.8.10"
  }
 },
 "nbformat": 4,
 "nbformat_minor": 5
}
