{
 "cells": [
  {
   "cell_type": "code",
   "execution_count": 54,
   "id": "11338e48",
   "metadata": {
    "scrolled": true
   },
   "outputs": [],
   "source": [
    "import matplotlib.pyplot as plt\n",
    "import random \n",
    "import numpy as np\n",
    "import math\n",
    "from decimal import Decimal\n",
    "\n",
    "%matplotlib inline\n",
    "\n",
    "class kci:\n",
    "    def __init__(self, n):\n",
    "        self.n = n\n",
    "        self.theta = random.uniform(1.5, 20)\n",
    "        self.x = [(1-random.uniform(0,1))**(1/(1-self.theta)) for _ in range(self.n)]\n",
    "        self.x.sort()\n",
    "        \n",
    "        \n",
    "    def OMP(self):\n",
    "        return 1 + self.n/self.summ(self.x, lambda x: math.log(x))\n",
    "    \n",
    "        \n",
    "    def median_bootstrap_conf_interval(self):\n",
    "        med_orig = 2**(1/(self.OMP() - 1))\n",
    "        #med_orig = self.x[self.n//2]\n",
    "        ret = []\n",
    "        for _ in range(1000):\n",
    "            subsequence = random.choices(self.x, k=self.n)\n",
    "            med_curr = 2**(1/((1+self.n/self.summ(subsequence, lambda x: math.log(x)))-1))\n",
    "            #med_curr = subsequence[self.n//2]\n",
    "            ret.append(med_curr - med_orig)\n",
    "        ret.sort()\n",
    "        k1 = ret[int(0*1000)]\n",
    "        k2 = ret[int(1000-1)]\n",
    "        return [med_orig - k2, med_orig - k1]\n",
    "        \n",
    "    def summ(self, lst, f):\n",
    "        ret = 0\n",
    "        for el in lst:\n",
    "            ret += f(el)\n",
    "        return ret\n",
    "    \n",
    "    def product(self):\n",
    "        ret = Decimal(1)\n",
    "        for el in self.x:\n",
    "            ret *= Decimal(el)\n",
    "        return ret\n",
    "        \n",
    "\n",
    "        \n",
    "    \n",
    "N = 101\n",
    "val = kci(N)"
   ]
  },
  {
   "cell_type": "code",
   "execution_count": 55,
   "id": "726d0e4b",
   "metadata": {
    "scrolled": false
   },
   "outputs": [
    {
     "name": "stdout",
     "output_type": "stream",
     "text": [
      "Theta =  1.7586018120777926\n",
      "\n",
      "X =  [1.0048499073172465, 1.0113003267555187, 1.040380570266153, 1.0476045738185007, 1.0638949870865273, 1.0647332704017451, 1.0665590964585066, 1.071163308258084, 1.0933662615245874, 1.1078891855517925, 1.1319202664988157, 1.1544569533793474, 1.155592154734688, 1.1644966100436391, 1.1666749034483817, 1.1749505659582777, 1.1840373746303794, 1.1950819583359058, 1.252076403222944, 1.2622794985287222, 1.2785967540171905, 1.2828279431629013, 1.3482719209799552, 1.3858491459777886, 1.3966186674524546, 1.3989519320217114, 1.418619738424677, 1.4482460277814715, 1.4738348436375512, 1.5010128172299786, 1.539858942904946, 1.6236898859577935, 1.6944790046528544, 1.7119227748206391, 1.776098807538993, 1.811305823077871, 1.81965501548789, 1.8664644803203092, 1.9416461686732174, 1.9553668054250315, 1.968054274158462, 2.0460975907418826, 2.1159003168870454, 2.1413874069337866, 2.3218158541412355, 2.408382698044218, 2.518263457993737, 2.5307276446385014, 2.739422871788541, 2.918643087300439, 2.922039854657933, 3.013810072795223, 3.0660957407689104, 3.1968105162132288, 3.256112666589128, 3.292541654893056, 3.5667579990423186, 4.132843060561417, 4.290977395752391, 4.31888522270098, 4.350446059742171, 4.577277648158388, 4.687441429826412, 4.83734008293468, 4.9155118393053145, 4.984527922387878, 5.834859157698118, 6.1145429171139165, 6.352235304975082, 6.4763862777690875, 6.796953710127412, 7.209734716886236, 8.727455388383472, 9.025182087911382, 11.454901531480536, 11.678490047940725, 12.207262162252734, 13.098810719269599, 13.518906326500234, 14.55248090815418, 19.069219488566567, 22.049152956830515, 24.36860098570835, 30.21435793570535, 30.24532217669341, 30.5736280301473, 31.184066174825805, 33.198886720098855, 34.16766720778855, 35.66516104592574, 38.033689521734445, 45.27724672928945, 46.47555361271999, 49.214993952809564, 60.793131218393604, 74.28629891230227, 86.8482138109611, 96.41586589519106, 121.18993783215025, 163.0381292843092, 373.7710253142697]\n"
     ]
    }
   ],
   "source": [
    "print(\"Theta = \", val.theta)\n",
    "print()\n",
    "row = val.x.copy()\n",
    "row.sort()\n",
    "print(\"X = \", row)"
   ]
  },
  {
   "cell_type": "code",
   "execution_count": 56,
   "id": "2c2536ac",
   "metadata": {},
   "outputs": [
    {
     "name": "stdout",
     "output_type": "stream",
     "text": [
      "Истинное значение параметра: \t\t\t\t\t 1.7586018120777926\n",
      "Оценка методом максимального правдоподобия: \t\t\t 1.6544537231648881\n",
      "\n",
      "Истинное значение медианы: \t\t\t\t\t 2.493573314301641\n",
      "Доверительный интервал для медианы, бутстрап, beta=0.95: \t [1.941198275575966, 3.615941661495395]\n"
     ]
    }
   ],
   "source": [
    "print(\"Истинное значение параметра: \\t\\t\\t\\t\\t\", val.theta)\n",
    "print('Оценка методом максимального правдоподобия: \\t\\t\\t', val.OMP())\n",
    "\n",
    "CI = val.median_bootstrap_conf_interval()\n",
    "print()\n",
    "print('Истинное значение медианы: \\t\\t\\t\\t\\t', 2**(1/(val.theta - 1)))\n",
    "print('Доверительный интервал для медианы, бутстрап, beta=0.95: \\t', CI)\n",
    "\n"
   ]
  },
  {
   "cell_type": "code",
   "execution_count": 78,
   "id": "51b8bf6d",
   "metadata": {},
   "outputs": [
    {
     "name": "stdout",
     "output_type": "stream",
     "text": [
      "(2.7773931082218393e-131, 3.8675194082078556e-131)\n",
      "(2.7866848268073146e-131, 4.299517304198209e-131)\n"
     ]
    }
   ],
   "source": [
    "from scipy import integrate\n",
    "\n",
    "f = lambda x: Decimal(math.exp(1-Decimal(x)))/Decimal(Decimal(val.product())**Decimal(x)) * Decimal(x-1)**Decimal(val.n)\n",
    "\n",
    "#нужно правильно подобрать верхний предел, ибо при больших значениях питон ругается, а при маленьких - не досчитывает\n",
    "print(integrate.quad(f, 1, 3))\n",
    "print(integrate.quad(f, 1, 4))\n",
    "Cupindex = 4\n",
    "Cdownindex = 1"
   ]
  },
  {
   "cell_type": "code",
   "execution_count": 79,
   "id": "f7d2dba0",
   "metadata": {},
   "outputs": [],
   "source": [
    "v, err = integrate.quad(f, 1, Cupindex)\n",
    "A = 1/v"
   ]
  },
  {
   "cell_type": "code",
   "execution_count": 80,
   "id": "bc49c2d0",
   "metadata": {},
   "outputs": [
    {
     "name": "stdout",
     "output_type": "stream",
     "text": [
      "q1:  1.53558349609375\n",
      "True theta:  1.7586018120777926\n",
      "q2:  1.7939453125\n"
     ]
    }
   ],
   "source": [
    "q1 = 0\n",
    "q2 = 0\n",
    "\n",
    "upindex = Cupindex\n",
    "downindex = Cdownindex\n",
    "\n",
    "while True:\n",
    "    v, err = integrate.quad(f, 1, (upindex+downindex)/2)\n",
    "    v*=A\n",
    "    if abs(v-0.025) < 0.0001:\n",
    "        q1 = (upindex+downindex)/2\n",
    "        break\n",
    "    if v > 0.025:\n",
    "        upindex = (upindex+downindex)/2\n",
    "    else:\n",
    "        downindex = (upindex+downindex)/2\n",
    "\n",
    "print(\"q1: \",  q1)\n",
    "upindex = Cupindex\n",
    "downindex = Cdownindex\n",
    "while True:\n",
    "    v, err = integrate.quad(f, 1, (upindex+downindex)/2)\n",
    "    v*=A\n",
    "    if abs(v-0.975) < 0.001:\n",
    "        q2 = (upindex+downindex)/2\n",
    "        break\n",
    "    if v > 0.975:\n",
    "        upindex = (upindex+downindex)/2\n",
    "    else:\n",
    "        downindex = (upindex+downindex)/2\n",
    "print(\"True theta: \", val.theta)\n",
    "print(\"q2: \",  q2)"
   ]
  },
  {
   "cell_type": "code",
   "execution_count": 64,
   "id": "4ccca476",
   "metadata": {},
   "outputs": [
    {
     "name": "stdout",
     "output_type": "stream",
     "text": [
      "1000\n"
     ]
    },
    {
     "ename": "AttributeError",
     "evalue": "'kci' object has no attribute 'exact_confidence_interval'",
     "output_type": "error",
     "traceback": [
      "\u001b[1;31m---------------------------------------------------------------------------\u001b[0m",
      "\u001b[1;31mAttributeError\u001b[0m                            Traceback (most recent call last)",
      "\u001b[1;32m~\\AppData\\Local\\Temp/ipykernel_14192/1701128554.py\u001b[0m in \u001b[0;36m<module>\u001b[1;34m\u001b[0m\n\u001b[0;32m      1\u001b[0m \u001b[0mprint\u001b[0m\u001b[1;33m(\u001b[0m\u001b[0mtr\u001b[0m\u001b[1;33m)\u001b[0m\u001b[1;33m\u001b[0m\u001b[1;33m\u001b[0m\u001b[0m\n\u001b[1;32m----> 2\u001b[1;33m \u001b[0mCI1\u001b[0m \u001b[1;33m=\u001b[0m \u001b[0mval\u001b[0m\u001b[1;33m.\u001b[0m\u001b[0mexact_confidence_interval\u001b[0m\u001b[1;33m(\u001b[0m\u001b[1;33m)\u001b[0m\u001b[1;33m\u001b[0m\u001b[1;33m\u001b[0m\u001b[0m\n\u001b[0m\u001b[0;32m      3\u001b[0m \u001b[0mCI2\u001b[0m \u001b[1;33m=\u001b[0m \u001b[0mval\u001b[0m\u001b[1;33m.\u001b[0m\u001b[0masimptotic_confidence_interval\u001b[0m\u001b[1;33m(\u001b[0m\u001b[1;33m)\u001b[0m\u001b[1;33m\u001b[0m\u001b[1;33m\u001b[0m\u001b[0m\n\u001b[0;32m      4\u001b[0m \u001b[0mCI3\u001b[0m \u001b[1;33m=\u001b[0m  \u001b[0mval\u001b[0m\u001b[1;33m.\u001b[0m\u001b[0mbootstrap_confidence_interval\u001b[0m\u001b[1;33m(\u001b[0m\u001b[1;33m)\u001b[0m\u001b[1;33m\u001b[0m\u001b[1;33m\u001b[0m\u001b[0m\n\u001b[0;32m      5\u001b[0m \u001b[1;33m\u001b[0m\u001b[0m\n",
      "\u001b[1;31mAttributeError\u001b[0m: 'kci' object has no attribute 'exact_confidence_interval'"
     ]
    }
   ],
   "source": [
    "print(tr)\n",
    "CI1 = val.exact_confidence_interval()\n",
    "CI2 = val.asimptotic_confidence_interval()\n",
    "CI3 =  val.bootstrap_confidence_interval()\n",
    "\n",
    "print(\"Точный доверительный интервал, \\t\\t beta=0.95: \\t\", CI1)\n",
    "print(\"Асимптотический доверительный интервал,\\t beta=0.95: \\t\", CI2)\n",
    "print(\"Бутстраповский доветрительный интервал,\\t beta=0.95: \\t\", CI3)"
   ]
  },
  {
   "cell_type": "code",
   "execution_count": 461,
   "id": "d2ad48ff",
   "metadata": {},
   "outputs": [
    {
     "data": {
      "image/png": "[encoded data removed]",
      "text/plain": [
       "<Figure size 1152x576 with 1 Axes>"
      ]
     },
     "metadata": {
      "needs_background": "light"
     },
     "output_type": "display_data"
    }
   ],
   "source": [
    "plt.figure(figsize=(16, 8))\n",
    "plt.scatter(val.theta, 3, color='b', label='Истинное значение')\n",
    "plt.title('Сравнение доверительных интервалов', fontsize=30)\n",
    "plt.plot(CI1, [2, 2], color='r', linewidth=7.0, label='Точный ДИ')\n",
    "plt.plot(CI2, [1, 1], color='g', linewidth=7.0, label='Асимптотический ДИ')\n",
    "plt.plot(CI3, [0, 0], color='y', linewidth=7.0, label='Бутстраповский ДИ')\n",
    "plt.legend(prop={'size': 20})\n",
    "plt.show()"
   ]
  },
  {
   "cell_type": "code",
   "execution_count": null,
   "id": "b4fffe89",
   "metadata": {},
   "outputs": [],
   "source": []
  }
 ],
 "metadata": {
  "kernelspec": {
   "display_name": "Python 3 (ipykernel)",
   "language": "python",
   "name": "python3"
  },
  "language_info": {
   "codemirror_mode": {
    "name": "ipython",
    "version": 3
   },
   "file_extension": ".py",
   "mimetype": "text/x-python",
   "name": "python",
   "nbconvert_exporter": "python",
   "pygments_lexer": "ipython3",
   "version": "3.8.10"
  }
 },
 "nbformat": 4,
 "nbformat_minor": 5
}
