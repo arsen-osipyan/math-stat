{
 "cells": [
  {
   "cell_type": "markdown",
   "id": "21a8c2fb",
   "metadata": {},
   "source": [
    "# Задание 5"
   ]
  },
  {
   "cell_type": "markdown",
   "id": "da312ca3",
   "metadata": {},
   "source": [
    "Случайная величина имеет распределение Парето:\n",
    "\n",
    "$p(x) = \\begin{cases} \\frac{\\theta - 1}{x^\\theta}, x \\ge 1\\\\0, x \\lt 1 \\end{cases}$\n",
    "\n",
    "$\\theta \\gt 1$"
   ]
  },
  {
   "cell_type": "code",
   "execution_count": 1,
   "id": "d15379d9",
   "metadata": {},
   "outputs": [],
   "source": [
    "import numpy as np\n",
    "import random\n",
    "import math\n",
    "from matplotlib import pyplot as plt\n",
    "from scipy import integrate\n",
    "from decimal import Decimal"
   ]
  },
  {
   "cell_type": "code",
   "execution_count": 2,
   "id": "a8a656cf",
   "metadata": {},
   "outputs": [
    {
     "name": "stdout",
     "output_type": "stream",
     "text": [
      "[ 9.04185154  3.10143694  1.1557359   1.35200439  6.58575395  4.08773762\n",
      "  1.19393683  2.25715732  1.24634701  2.67838016 14.29404094  2.18987889\n",
      "  5.1547461  12.75911775  1.44646266  1.98202233 21.70570204  1.97110788\n",
      " 10.1137983   2.84908893  3.64419102 75.83707491  2.72393302  1.08498903\n",
      "  1.58337379  1.03824534  1.01298151  1.81838439  2.56629625 12.94959171\n",
      "  1.85033938  2.52364699  1.92670234  1.09201868  1.09589047 27.75487395\n",
      "  4.96645463  6.1456976   8.3464126   1.27629807  1.45748618  2.36466018\n",
      "  1.11310673  9.11777913  1.0693712   1.12888442  1.92978564  2.01363596\n",
      "  7.79089425  1.241664    2.40935169  2.51113008  1.83729323  1.00608741\n",
      "  2.96681426  5.64447804  2.41168395  2.26099771  1.21684126  1.85732338\n",
      "  3.86122018  1.71944962  3.50472509  1.94692907  3.23010295  1.75776543\n",
      "  6.5950792   1.34709066  2.76931635  3.56679043  2.86038625  1.036642\n",
      "  6.29720441  2.06054424  3.3133637   2.15289521  2.56277724  1.08464632\n",
      "  2.75741154  1.99589272  1.12765089  1.41646472  1.28482696  1.88162638\n",
      "  1.80167435  3.77064481  3.54585963  1.10024527 13.66594424  1.39518681\n",
      "  1.09266607  6.78888158  3.50132798  1.60416798  2.24769716  2.07900141\n",
      "  1.06331094  1.58121062  3.67837162  2.54047354]\n"
     ]
    }
   ],
   "source": [
    "selection_size = 100\n",
    "theta = 2\n",
    "beta = 0.95\n",
    "alpha = 1 - beta\n",
    "\n",
    "F = np.array([random.random() for _ in range(selection_size)])\n",
    "X = np.array([(1 / (1 - F[i]))**(1/(theta - 1)) for i in range(selection_size)])\n",
    "\n",
    "print(X)"
   ]
  },
  {
   "cell_type": "markdown",
   "id": "c938eb4b",
   "metadata": {},
   "source": [
    "### e) Сгенерируйте выборку объема $n=100$ для некоторого значения параметра $\\theta$. Вычислите указанные доверительные интервалы для доверительной вероятности $0.95$."
   ]
  },
  {
   "cell_type": "markdown",
   "id": "57d5b18a",
   "metadata": {},
   "source": [
    "Асимптотический доверительный интервал медианы по ОМП"
   ]
  },
  {
   "cell_type": "code",
   "execution_count": 4,
   "id": "7866b6ed",
   "metadata": {},
   "outputs": [
    {
     "name": "stdout",
     "output_type": "stream",
     "text": [
      "(1.7002817651771653; 2.216148166471111)\n"
     ]
    }
   ],
   "source": [
    "theta_est = 1 + len(X) / np.sum([np.log(x) for x in X])\n",
    "median_est = 2 ** (1 / (theta_est - 1))\n",
    "U_min = -1.96\n",
    "U_max = +1.96\n",
    "\n",
    "\n",
    "asymptotic_median_min = U_min * (np.log(2) * median_est) / (np.sqrt(len(X)) * (theta_est - 1)) + median_est\n",
    "asymptotic_median_max = U_max * (np.log(2) * median_est) / (np.sqrt(len(X)) * (theta_est - 1)) + median_est\n",
    "\n",
    "print(f'({asymptotic_median_min}; {asymptotic_median_max})')"
   ]
  },
  {
   "cell_type": "markdown",
   "id": "81b468ab",
   "metadata": {},
   "source": [
    "Баесовский доверительный интервал"
   ]
  },
  {
   "cell_type": "code",
   "execution_count": 20,
   "id": "bac7d4a4",
   "metadata": {},
   "outputs": [
    {
     "name": "stdout",
     "output_type": "stream",
     "text": [
      "(1.8398590087890625; 2.2416839599609375)\n"
     ]
    }
   ],
   "source": [
    "def integral_equation(f, a0, b0, q, err, C):\n",
    "    a = a0\n",
    "    b = b0\n",
    "    \n",
    "    while True:\n",
    "        A, e = integrate.quad(f, a0, (a + b)/2)\n",
    "        A /= C\n",
    "        if np.abs(A - q) < err:\n",
    "            b = (a + b)/2\n",
    "            break\n",
    "        if A > q:\n",
    "            b = (a + b)/2\n",
    "        else:\n",
    "            a = (a + b)/2\n",
    "    \n",
    "    return b\n",
    "\n",
    "X1_n = Decimal(1)\n",
    "for i in range(len(X)):\n",
    "    X1_n *= Decimal(X[i])\n",
    "\n",
    "f = lambda x: Decimal(math.exp(1-Decimal(x)))/Decimal(Decimal(X1_n)**Decimal(x)) * Decimal(x-1)**Decimal(len(X))\n",
    "C, err = integrate.quad(f, 1, theta * 2)\n",
    "\n",
    "q0025 = integral_equation(f, 1, theta*4, alpha / 2, 0.00001, C)\n",
    "q0975 = integral_equation(f, 1, theta*4, beta + alpha / 2, 0.00001, C)\n",
    "\n",
    "bayes_min = q0025\n",
    "bayes_max = q0975\n",
    "\n",
    "print(f'({bayes_min}; {bayes_max})')"
   ]
  },
  {
   "cell_type": "markdown",
   "id": "8968fe84",
   "metadata": {},
   "source": [
    "Асимптотический доверительный интервал параметра $\\theta$"
   ]
  },
  {
   "cell_type": "code",
   "execution_count": 5,
   "id": "568bbea3",
   "metadata": {},
   "outputs": [
    {
     "name": "stdout",
     "output_type": "stream",
     "text": [
      "(1.8292599654685748; 2.2335757695278797)\n"
     ]
    }
   ],
   "source": [
    "theta_est = 1 + len(X) / np.sum([np.log(x) for x in X])\n",
    "U_min = -1.96\n",
    "U_max = +1.96\n",
    "\n",
    "asymptotic_min = theta_est - (theta_est - 1) / len(X)**0.5 * U_max\n",
    "asymptotic_max = theta_est - (theta_est - 1) / len(X)**0.5 * U_min\n",
    "\n",
    "print(f'({asymptotic_min}; {asymptotic_max})')"
   ]
  },
  {
   "cell_type": "markdown",
   "id": "b9d276f4",
   "metadata": {},
   "source": [
    "### f) Численно постройте бутстраповский доверительный интервал двумя способами, используя параметрический и непараметрический бутстрап."
   ]
  },
  {
   "cell_type": "markdown",
   "id": "bdff0ce6",
   "metadata": {},
   "source": [
    "Бутстраповский (непараметрический) доверительный интервал"
   ]
  },
  {
   "cell_type": "code",
   "execution_count": 6,
   "id": "3d428dbd",
   "metadata": {},
   "outputs": [
    {
     "name": "stdout",
     "output_type": "stream",
     "text": [
      "(1.8696486200958744; 2.2340115310032216)\n"
     ]
    }
   ],
   "source": [
    "theta_est = lambda X : 1 + len(X) / np.sum([np.log(x) for x in X])\n",
    "N = 1000\n",
    "\n",
    "subselections = [[X[random.randint(0,len(X)-1)] for i in range(len(X))] for j in range(N)]\n",
    "deltas = [theta_est(subselections[i]) - theta_est(X) for i in range(N)]\n",
    "deltas = np.sort(deltas)\n",
    "\n",
    "k1 = int(N * (1 - beta) / 2) - 1\n",
    "k2 = int(N * (1 + beta) / 2) - 1\n",
    "\n",
    "nonparametric_bootstrap_min = deltas[k1] + theta_est(X)\n",
    "nonparametric_bootstrap_max = deltas[k2] + theta_est(X)\n",
    "\n",
    "print(f'({nonparametric_bootstrap_min}; {nonparametric_bootstrap_max})')"
   ]
  },
  {
   "cell_type": "markdown",
   "id": "63f61816",
   "metadata": {},
   "source": [
    "Бутстраповский (параметрический) доверительный интервал"
   ]
  },
  {
   "cell_type": "code",
   "execution_count": 7,
   "id": "3502b8c0",
   "metadata": {},
   "outputs": [
    {
     "name": "stdout",
     "output_type": "stream",
     "text": [
      "(1.8284150855892864; 2.227386468811646)\n"
     ]
    }
   ],
   "source": [
    "theta_est = lambda X : 1 + len(X) / np.sum([np.log(x) for x in X])\n",
    "theta_ = theta_est(X)\n",
    "N = 50000\n",
    "\n",
    "subselections = [[(1 / (1 - random.random()))**(1/(theta - 1)) for i in range(len(X))] for j in range(N)]\n",
    "theta_ests = [theta_est(subselections[i]) for i in range(N)]\n",
    "theta_ests = np.sort(theta_ests)\n",
    "\n",
    "k1 = int(N * (1 - beta) / 2) - 1\n",
    "k2 = int(N * (1 + beta) / 2) - 1\n",
    "\n",
    "parametric_bootstrap_min = theta_ests[k1]\n",
    "parametric_bootstrap_max = theta_ests[k2]\n",
    "\n",
    "print(f'({parametric_bootstrap_min}; {parametric_bootstrap_max})')"
   ]
  },
  {
   "cell_type": "markdown",
   "id": "e3e2768c",
   "metadata": {},
   "source": [
    "### g) Сравнить все интервалы"
   ]
  },
  {
   "cell_type": "code",
   "execution_count": 15,
   "id": "798c5b54",
   "metadata": {},
   "outputs": [
    {
     "data": {
      "image/png": "[encoded data removed]",
      "text/plain": [
       "<Figure size 640x480 with 1 Axes>"
      ]
     },
     "metadata": {},
     "output_type": "display_data"
    }
   ],
   "source": [
    "I_min = [bayes_min, asymptotic_min, parametric_bootstrap_min, nonparametric_bootstrap_min]\n",
    "I_max = [bayes_max, asymptotic_max, parametric_bootstrap_max, nonparametric_bootstrap_max]\n",
    "\n",
    "x = [\"Баесовский\", \"Асимптотический\", \"Bootstrap (пар.)\", \"Bootstrap (непар.)\"]\n",
    "\n",
    "fig, ax = plt.subplots()\n",
    "\n",
    "ax.hlines(x, I_min, I_max, linewidth=5)\n",
    "ax.vlines(theta, 0, len(x)-1, colors=['red'])\n",
    "\n",
    "plt.show()"
   ]
  }
 ],
 "metadata": {
  "kernelspec": {
   "display_name": "Python 3 (ipykernel)",
   "language": "python",
   "name": "python3"
  },
  "language_info": {
   "codemirror_mode": {
    "name": "ipython",
    "version": 3
   },
   "file_extension": ".py",
   "mimetype": "text/x-python",
   "name": "python",
   "nbconvert_exporter": "python",
   "pygments_lexer": "ipython3",
   "version": "3.8.10"
  }
 },
 "nbformat": 4,
 "nbformat_minor": 5
}
