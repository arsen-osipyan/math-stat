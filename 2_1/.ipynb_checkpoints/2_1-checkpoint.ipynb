{
 "cells": [
  {
   "cell_type": "markdown",
   "id": "1602526c",
   "metadata": {},
   "source": [
    "# Задание 2.1"
   ]
  },
  {
   "cell_type": "markdown",
   "id": "800bc023",
   "metadata": {},
   "source": [
    "Случайный вектор $(\\xi_1, \\xi_2, \\xi_3, \\xi_4, \\xi_5, \\eta)$ имеет компоненты, распределенные по следующему закону: $\\xi_k ~ R(-1, 1)$, $\\eta ~ N(2 + 3x_1 - 2x_2 + x_3 + x_4 - x_5, 1.5^2)$, где $x_k$ - это значения, которые принимает случайная величина $\\xi_k$. Сгенерировать выборку объема $n = 50$. "
   ]
  },
  {
   "cell_type": "markdown",
   "id": "22cb2df9",
   "metadata": {},
   "source": [
    "### Подключение библиотек и инициализация констант для реализации"
   ]
  },
  {
   "cell_type": "code",
   "execution_count": 11,
   "id": "4e433491",
   "metadata": {},
   "outputs": [],
   "source": [
    "import numpy as np\n",
    "import matplotlib.pyplot as plt\n",
    "import scipy as sp\n",
    "import math\n",
    "\n",
    "LOW_INDEX = ['₀', '₁', '₂', '₃', '₄', '₅', '₆', '₇', '₈', '₉']"
   ]
  },
  {
   "cell_type": "markdown",
   "id": "79b38573",
   "metadata": {},
   "source": [
    "### Линейная регрессия"
   ]
  },
  {
   "cell_type": "code",
   "execution_count": 78,
   "id": "32a4b704",
   "metadata": {},
   "outputs": [],
   "source": [
    "class LinearRegression:\n",
    "    def __init__(self, Psi, Y):\n",
    "        self.Psi = Psi\n",
    "        self.Y = Y\n",
    "    \n",
    "    def beta_est(self):\n",
    "        return np.linalg.inv(self.Psi.T@self.Psi)@self.Psi.T@self.Y\n",
    "    \n",
    "    def RSS(self):\n",
    "        beta_est = self.beta_est()\n",
    "        return (self.Y - self.Psi@beta_est).T@(self.Y - self.Psi@beta_est)\n",
    "    \n",
    "    def TSS(self):\n",
    "        return np.sum([ (self.Y[i] - np.mean(self.Y))**2 for i in range(len(self.Y)) ])\n",
    "    \n",
    "    def e(self):\n",
    "        return self.Y - self.Psi @ self.beta_est()\n",
    "    \n",
    "    def R2(self):\n",
    "        RSS = self.RSS()\n",
    "        TSS = self.TSS()\n",
    "        return (TSS - RSS) / TSS\n",
    "    \n",
    "    def F(self):\n",
    "        return self.Psi.T@self.Psi"
   ]
  },
  {
   "cell_type": "markdown",
   "id": "42ac0b50",
   "metadata": {},
   "source": [
    "### Плотность распределения Стьюдента"
   ]
  },
  {
   "cell_type": "code",
   "execution_count": 79,
   "id": "d5253017",
   "metadata": {},
   "outputs": [],
   "source": [
    "def student_dist(n, x):\n",
    "    return sp.special.gamma((n+1)/2) * (np.pi*n)**(-0.5) * (sp.special.gamma(n/2))**(-1) * (1 + x**2 / n)**(-(n+1)/2)"
   ]
  },
  {
   "cell_type": "markdown",
   "id": "fe6a3036",
   "metadata": {},
   "source": [
    "### Плотность распределения Фишера"
   ]
  },
  {
   "cell_type": "code",
   "execution_count": 80,
   "id": "2221641f",
   "metadata": {},
   "outputs": [],
   "source": [
    "def fisher_dist(d1, d2, x):\n",
    "    return np.sqrt( ((d1*x)**d1 * d2**d2) / (d1*x + d2)**(d1+d2) ) / (x*sp.special.gamma(d1/2)*sp.special.gamma(d2/2)/sp.special.gamma(d1/2+d2/2))"
   ]
  },
  {
   "cell_type": "markdown",
   "id": "802464f4",
   "metadata": {},
   "source": [
    "### Плотность нормального распределения"
   ]
  },
  {
   "cell_type": "code",
   "execution_count": 17,
   "id": "3f7e8c98",
   "metadata": {},
   "outputs": [],
   "source": [
    "def normal_dist(a, std2, x):\n",
    "    return 1 / np.sqrt(2*np.pi*std2) * np.exp( -(x - a)**2 / (2*std2) )"
   ]
  },
  {
   "cell_type": "markdown",
   "id": "9f592f97",
   "metadata": {},
   "source": [
    "### Параметры задачи"
   ]
  },
  {
   "cell_type": "code",
   "execution_count": 74,
   "id": "f158757c",
   "metadata": {},
   "outputs": [],
   "source": [
    "n = 50\n",
    "k = 5\n",
    "alpha = 0.05\n",
    "\n",
    "X = np.random.uniform(-1, 1, (n, k))\n",
    "Y = 2 * np.ones((n,), dtype=float) + 3 * X[:, 0] - 2 * X[:, 1] + X[:, 2] + X[:, 3] - X[:, 4] + 1.5 * np.random.randn(n)"
   ]
  },
  {
   "cell_type": "code",
   "execution_count": 75,
   "id": "0ae9a92e",
   "metadata": {},
   "outputs": [],
   "source": [
    "p = k + 1\n",
    "Psi = np.hstack([np.ones((n, 1), dtype=float), X])"
   ]
  },
  {
   "cell_type": "markdown",
   "id": "6118cddf",
   "metadata": {},
   "source": [
    "### a) Проверить переменные $\\xi_k$ на мультиколлинеарность."
   ]
  },
  {
   "cell_type": "markdown",
   "id": "811ad36a",
   "metadata": {},
   "source": [
    "Будем строить линейную регрессию на основе $k-1$ величин $\\xi$, взяв каждую из них поочередно в роли отклика."
   ]
  },
  {
   "cell_type": "code",
   "execution_count": 81,
   "id": "b33f3626",
   "metadata": {},
   "outputs": [
    {
     "name": "stdout",
     "output_type": "stream",
     "text": [
      "Для 𝜉₁: R² = 0.0765\n",
      "Для 𝜉₂: R² = 0.0296\n",
      "Для 𝜉₃: R² = 0.1507\n",
      "Для 𝜉₄: R² = 0.0998\n",
      "Для 𝜉₅: R² = 0.1174\n"
     ]
    }
   ],
   "source": [
    "for i in range(k):\n",
    "    Psi_i = np.delete(Psi, [i+1], 1)\n",
    "    lr_i = LinearRegression(Psi_i, Psi[:, i+1])\n",
    "    print(f\"Для 𝜉{LOW_INDEX[i+1]}: R² = {round(lr_i.R2(), 4)}\")"
   ]
  },
  {
   "cell_type": "markdown",
   "id": "5955ab3a",
   "metadata": {},
   "source": [
    "Как мы видим, для всех $\\xi_k$ коэффициент $R^2_k$ не превышает $0.7$, что говорит о <b>немультиколлинеарности</b> всех компонент."
   ]
  },
  {
   "cell_type": "markdown",
   "id": "c158e5cf",
   "metadata": {},
   "source": [
    "### b) Определить уравнение линейной регрессии $\\eta = \\beta_0 + \\sum\\limits_{k=1}^5\\beta_k\\xi_k$ и проверить значимость коэффициентов."
   ]
  },
  {
   "cell_type": "markdown",
   "id": "480bb9fa",
   "metadata": {},
   "source": [
    "Построим уравнение линейной регрессии."
   ]
  },
  {
   "cell_type": "code",
   "execution_count": 82,
   "id": "e7cd28b0",
   "metadata": {},
   "outputs": [
    {
     "name": "stdout",
     "output_type": "stream",
     "text": [
      "𝜂 = 1.8313 + 3.0407·𝜉₁ + -1.9121·𝜉₂ + 1.3798·𝜉₃ + 1.061·𝜉₄ + -0.5824·𝜉₅\n"
     ]
    }
   ],
   "source": [
    "lr = LinearRegression(Psi, Y)\n",
    "beta_est = lr.beta_est()\n",
    "\n",
    "print(f\"𝜂 = {round(beta_est[0], 4)}\", end='')\n",
    "for i in range(k):\n",
    "    print(f\" + {round(beta_est[i+1], 4)}·𝜉{LOW_INDEX[i+1]}\", end='')\n",
    "print()"
   ]
  },
  {
   "cell_type": "code",
   "execution_count": 83,
   "id": "a12e1bf9",
   "metadata": {},
   "outputs": [
    {
     "name": "stdout",
     "output_type": "stream",
     "text": [
      "Исследование значимости коэффициента 𝛽₀:\n",
      "Δ₀ = 7.6318; p-value₀ = 0.0 => Отвергаем гипотезу о незначимости коэффициента 𝛽₀.\n",
      "\n",
      "Исследование значимости коэффициента 𝛽₁:\n",
      "Δ₁ = 7.0812; p-value₁ = 0.0 => Отвергаем гипотезу о незначимости коэффициента 𝛽₁.\n",
      "\n",
      "Исследование значимости коэффициента 𝛽₂:\n",
      "Δ₂ = -4.548; p-value₂ = 0.0 => Отвергаем гипотезу о незначимости коэффициента 𝛽₂.\n",
      "\n",
      "Исследование значимости коэффициента 𝛽₃:\n",
      "Δ₃ = 3.2326; p-value₃ = 0.0023 => Отвергаем гипотезу о незначимости коэффициента 𝛽₃.\n",
      "\n",
      "Исследование значимости коэффициента 𝛽₄:\n",
      "Δ₄ = 2.545; p-value₄ = 0.0145 => Отвергаем гипотезу о незначимости коэффициента 𝛽₄.\n",
      "\n",
      "Исследование значимости коэффициента 𝛽₅:\n",
      "Δ₅ = -1.3351; p-value₅ = 0.1887 => Нет оснований отвергнуть гипотезу о незначимости коэффициента 𝛽₅.\n",
      "\n"
     ]
    }
   ],
   "source": [
    "F_inv = np.linalg.inv(lr.F())\n",
    "RSS = lr.RSS()\n",
    "no_valuable = []\n",
    "\n",
    "for i in range(p):\n",
    "    print(f\"Исследование значимости коэффициента 𝛽{LOW_INDEX[i]}:\")\n",
    "    \n",
    "    delta = beta_est[i] * np.sqrt(n - p) / np.sqrt(RSS * F_inv[i, i])\n",
    "    print(f\"Δ{LOW_INDEX[i]} = {round(delta, 4)}; \", end='')\n",
    "    \n",
    "    p_value = 2 * sp.integrate.quad(lambda x : student_dist(n - p, x), np.abs(delta), +math.inf)[0]\n",
    "    print(f\"p-value{LOW_INDEX[i]} = {round(p_value, 4)}\", end=' ')\n",
    "    \n",
    "    if (p_value > alpha):\n",
    "        print(f\"=> Нет оснований отвергнуть гипотезу о незначимости коэффициента 𝛽{LOW_INDEX[i]}.\")\n",
    "        no_valuable.append(i)\n",
    "    else:\n",
    "        print(f\"=> Отвергаем гипотезу о незначимости коэффициента 𝛽{LOW_INDEX[i]}.\")\n",
    "    print()"
   ]
  },
  {
   "cell_type": "markdown",
   "id": "2ac6b542",
   "metadata": {},
   "source": [
    "### c) Определить коэффициент детерминации и проверить его значимость."
   ]
  },
  {
   "cell_type": "code",
   "execution_count": 84,
   "id": "eb8efa2c",
   "metadata": {},
   "outputs": [
    {
     "name": "stdout",
     "output_type": "stream",
     "text": [
      "Коэффициент детерминации: R² = 0.7228\n"
     ]
    }
   ],
   "source": [
    "R2 = lr.R2()\n",
    "print(f\"Коэффициент детерминации: R² = {round(R2, 4)}\")"
   ]
  },
  {
   "cell_type": "code",
   "execution_count": 85,
   "id": "d3350bdd",
   "metadata": {},
   "outputs": [
    {
     "name": "stdout",
     "output_type": "stream",
     "text": [
      "Δ = 22.9438; p-value = 2.933435090366522e-11 => Отвергаем гипотезу о незначимости коэффициента R².\n"
     ]
    }
   ],
   "source": [
    "delta = R2 / (1 - R2) * (n - p) / (p - 1)\n",
    "print(f\"Δ = {round(delta, 4)};\", end=' ')\n",
    "\n",
    "p_value = sp.integrate.quad(lambda x : fisher_dist(p - 1, n - p, x), delta, +math.inf)[0]\n",
    "print(f\"p-value = {p_value}\", end=' ')\n",
    "\n",
    "if p_value < alpha:\n",
    "    print(f\"=> Отвергаем гипотезу о незначимости коэффициента R².\")\n",
    "else:\n",
    "    print(f\"=> Нет оснований отвергнуть гипотезу о незначимости коэффициента R².\")"
   ]
  },
  {
   "cell_type": "markdown",
   "id": "aad82fae",
   "metadata": {},
   "source": [
    "### d) Найти значение в точке $x_k = 0$ и построить $95\\%$ доверительный интервал."
   ]
  },
  {
   "cell_type": "code",
   "execution_count": 86,
   "id": "316538b5",
   "metadata": {},
   "outputs": [
    {
     "name": "stdout",
     "output_type": "stream",
     "text": [
      "Посчитанное значение y при xₖ= 0: y = 1.8313\n"
     ]
    }
   ],
   "source": [
    "y = np.array([1, 0, 0, 0, 0, 0])@lr.beta_est()\n",
    "print(f\"Посчитанное значение y при xₖ= 0: y = {round(y, 4)}\")"
   ]
  },
  {
   "cell_type": "code",
   "execution_count": 87,
   "id": "1c0b174d",
   "metadata": {},
   "outputs": [
    {
     "name": "stdout",
     "output_type": "stream",
     "text": [
      "Доверительный интервал: I = (-1.5185; 5.1827)\n"
     ]
    }
   ],
   "source": [
    "def find_solution(p, eps=0.00001):\n",
    "    if p == 0.5:\n",
    "        return 0.0\n",
    "    \n",
    "    if p < 0.5:\n",
    "        a = -1\n",
    "        b = 0\n",
    "        while sp.integrate.quad(lambda x : student_dist(n - p, x), -math.inf, a)[0] > p:\n",
    "            a *= 2\n",
    "    else:\n",
    "        a = 0\n",
    "        b = 1\n",
    "        while sp.integrate.quad(lambda x : student_dist(n - p, x), -math.inf, b)[0] < p:\n",
    "            b *= 2\n",
    "    \n",
    "    while True:\n",
    "        I = sp.integrate.quad(lambda x : student_dist(n - p, x), -math.inf, 0.5 * (a + b))[0]\n",
    "        \n",
    "        if np.abs(I - p) < eps:\n",
    "            break\n",
    "        \n",
    "        if I > p:\n",
    "            b = 0.5 * (a + b)\n",
    "        elif I < p:\n",
    "            a = 0.5 * (a + b)\n",
    "        else:\n",
    "            return 0.5 * (a + b)\n",
    "    \n",
    "    return 0.5 * (a + b)\n",
    "\n",
    "\n",
    "beta = 0.95\n",
    "\n",
    "alpha1 = 0.5 * (1 - beta)\n",
    "alpha2 = 0.5 * (1 + beta)\n",
    "\n",
    "t1 = find_solution(alpha1)\n",
    "t2 = find_solution(alpha2)\n",
    "\n",
    "A = 1 + np.array([1, 0, 0, 0, 0, 0])@np.linalg.inv(lr.F())@np.array([1, 0, 0, 0, 0, 0]).T\n",
    "\n",
    "I = (y + t1 * np.sqrt(A * lr.RSS() / (n - p)), y + t2 * np.sqrt(A * lr.RSS() / (n - p)))\n",
    "\n",
    "print(f\"Доверительный интервал: I = ({round(I[0], 4)}; {round(I[1], 4)})\")"
   ]
  },
  {
   "cell_type": "markdown",
   "id": "c53bee60",
   "metadata": {},
   "source": [
    "### e) Проверить предположение о независимости ошибок измерения."
   ]
  },
  {
   "cell_type": "markdown",
   "id": "b542c4ee",
   "metadata": {},
   "source": [
    "Посчитаем количество инверсий $I$ в векторе значений ошибок $e$, и на основе него определим $\\Delta$ и $\\text{p-value}$."
   ]
  },
  {
   "cell_type": "code",
   "execution_count": 88,
   "id": "bfc5cb25",
   "metadata": {},
   "outputs": [
    {
     "name": "stdout",
     "output_type": "stream",
     "text": [
      "Δ = -0.1442; p-value = 0.8853 => Нет оснований отвергнуть гипотезу о независимости ошибок.\n"
     ]
    }
   ],
   "source": [
    "e = lr.e()\n",
    "I = 0\n",
    "\n",
    "for i in range(len(e)-1):\n",
    "    for j in range(i+1, len(e)):\n",
    "        if e[j] > e[i]:\n",
    "            I += 1\n",
    "\n",
    "delta = (I - n*(n-1)/4) / np.sqrt(n**3/36)\n",
    "print(f\"Δ = {round(delta, 4)};\", end=' ')\n",
    "\n",
    "p_value = 2*sp.integrate.quad(lambda x : normal_dist(0, 1, x), np.abs(delta), +math.inf)[0]\n",
    "print(f\"p-value = {round(p_value, 4)}\", end=' ')\n",
    "\n",
    "if p_value > alpha:\n",
    "    print(f\"=> Нет оснований отвергнуть гипотезу о независимости ошибок.\")\n",
    "else:\n",
    "    print(f\"=> Отвергаем гипотезу о независимости ошибок.\")"
   ]
  },
  {
   "cell_type": "markdown",
   "id": "586b2df5",
   "metadata": {},
   "source": [
    "### f) Проверить предположение о нормальности распределения ошибок."
   ]
  },
  {
   "cell_type": "markdown",
   "id": "bba13726",
   "metadata": {},
   "source": [
    "Построим эмпирическую функцию распределения вероятности и сравним с функцией нормального распределения."
   ]
  },
  {
   "cell_type": "code",
   "execution_count": 89,
   "id": "28b0d39a",
   "metadata": {},
   "outputs": [
    {
     "data": {
      "image/png": "[encoded data removed]",
      "text/plain": [
       "<Figure size 1200x600 with 1 Axes>"
      ]
     },
     "metadata": {},
     "output_type": "display_data"
    }
   ],
   "source": [
    "def F_emp(x, X):\n",
    "    F = 0\n",
    "    for el in X:\n",
    "        if el < x:\n",
    "            F += 1/len(X)\n",
    "    return F\n",
    "\n",
    "def F_dist(a, std2, x):\n",
    "    return sp.integrate.quad(lambda x : normal_dist(a, std2, x), -math.inf, x)[0]\n",
    "\n",
    "\n",
    "fig, ax = plt.subplots()\n",
    "\n",
    "xx = np.linspace(-4.0, 4.0, 1000)\n",
    "\n",
    "ax.scatter(xx, [F_emp(x, e) for x in xx], s=2, label='Эмпирическая функция распределения вероятности')\n",
    "ax.scatter(xx, [F_dist(0, 1.5**2, x) for x in xx], s=2, label='Функция распределения вероятности')\n",
    "\n",
    "ax.set_title('Эмпирическая функция рапределения вероятности $\\\\tilde F(x)$\\nи функция распределения вероятности $F(x)$')\n",
    "ax.set_xlabel('x', fontsize=12)\n",
    "ax.legend()\n",
    "fig.set_figheight(6)\n",
    "fig.set_figwidth(12)\n",
    "\n",
    "\n",
    "plt.show()"
   ]
  },
  {
   "cell_type": "markdown",
   "id": "1130de82",
   "metadata": {},
   "source": [
    "Определим $\\Delta$ по формуле: \n",
    "\n",
    "$\\Delta = \\sqrt{n} \\cdot sup(|\\tilde F(x) - F(x)|)$"
   ]
  },
  {
   "cell_type": "code",
   "execution_count": 90,
   "id": "9d8a299d",
   "metadata": {},
   "outputs": [
    {
     "name": "stdout",
     "output_type": "stream",
     "text": [
      "Δ = 0.4713\n"
     ]
    }
   ],
   "source": [
    "delta = np.sqrt(len(e)) * np.max([np.max([np.abs(F_emp(x, e) - F_dist(0, 1.5**2, x)) for x in e]), np.max([np.abs(F_emp(x+0.001, e) - F_dist(0, 1.5**2, x+0.001)) for x in e])])\n",
    "print(f\"Δ = {round(delta, 4)}\")"
   ]
  },
  {
   "cell_type": "markdown",
   "id": "36ebb42c",
   "metadata": {},
   "source": [
    "Воспользуемся параметрическим бутстрапом. Сформируем $N = 50000$ выборок, для который определим $\\Delta_k$ аналогично тому, как нашли общую $\\Delta$ для изначальной выборки."
   ]
  },
  {
   "cell_type": "code",
   "execution_count": 103,
   "id": "19b82b1e",
   "metadata": {},
   "outputs": [],
   "source": [
    "N = 50000\n",
    "deltas = np.zeros(N, dtype=float)\n",
    "\n",
    "def F_emp(x, XX):\n",
    "    return (np.where(XX == x)[0][0] + 1) / len(XX)\n",
    "\n",
    "def delta_kolmogorov(selection):\n",
    "    selection = np.sort(selection)\n",
    "    \n",
    "    moment1 = 1/len(selection) * np.sum([selection[i] for i in range(len(selection))])\n",
    "    moment2 = 1/len(selection) * np.sum([selection[i]**2 for i in range(len(selection))])\n",
    "    \n",
    "    mean_est = moment1\n",
    "    std2_est = moment2 - moment1**2\n",
    "    \n",
    "    F_emp_values = [(np.where(selection == x)[0][0] + 1) / len(selection) for x in selection]\n",
    "    F_dist_values = [sp.integrate.quad(lambda x : normal_dist(mean_est, std2_est, x), -math.inf, selection[0])[0]]\n",
    "    \n",
    "    for i in range(1, len(selection)):\n",
    "        F_dist_values.append(F_dist_values[-1] + sp.integrate.quad(lambda x : normal_dist(mean_est, std2_est, x), selection[i-1], selection[i])[0])\n",
    "\n",
    "    delta = np.sqrt(len(selection)) * np.max([np.max([np.abs(F_emp_values[i] - F_dist_values[i]) for i in range(len(selection))]),\n",
    "                                    np.max([np.abs(F_emp_values[i] - F_dist_values[i+1]) for i in range(len(selection)-1)])])\n",
    "    \n",
    "    return delta\n",
    "\n",
    "for i in range(N):\n",
    "    ee = 1.5 * np.random.randn(n)\n",
    "    deltas[i] = delta_kolmogorov(ee)\n",
    "\n",
    "deltas = np.sort(deltas)"
   ]
  },
  {
   "cell_type": "markdown",
   "id": "cb763bce",
   "metadata": {},
   "source": [
    "Определим $\\text{p-value}$ по формуле (здесь $k$ - индекс первого элемента в вариационном ряде $\\Delta_{(k)}$, который больше $\\Delta$): \n",
    "\n",
    "$\\text{p-value} = 1 - \\frac{k + 1}{N}$"
   ]
  },
  {
   "cell_type": "code",
   "execution_count": 104,
   "id": "c7ab44f8",
   "metadata": {},
   "outputs": [
    {
     "name": "stdout",
     "output_type": "stream",
     "text": [
      "p-value = 0.8398 => Нет оснований отвергнуть гипотезу о нормальности распределения ошибки.\n"
     ]
    }
   ],
   "source": [
    "p_value = 1 - (np.where(deltas > delta)[0][0] + 2) / N\n",
    "print(f\"p-value = {round(p_value, 4)}\", end=' ')\n",
    "if p_value < alpha:\n",
    "    print(\"=> Отвергаем гипотезу о нормальности распределения ошибки.\")\n",
    "else:\n",
    "    print(\"=> Нет оснований отвергнуть гипотезу о нормальности распределения ошибки.\")"
   ]
  },
  {
   "cell_type": "markdown",
   "id": "4811a5bc",
   "metadata": {},
   "source": [
    "### g) Исследовать регрессию на выбросы."
   ]
  },
  {
   "cell_type": "markdown",
   "id": "446e5f91",
   "metadata": {},
   "source": [
    "Возьмем вектор ошибок $e$ и рассчитаем $\\sigma_e$:\n",
    "\n",
    "$\\sigma_e = \\frac{m}{0.675}$, где $m$ - медиана величины $|e|$"
   ]
  },
  {
   "cell_type": "code",
   "execution_count": 105,
   "id": "3c4c2737",
   "metadata": {},
   "outputs": [],
   "source": [
    "e = lr.e()\n",
    "abs_e = np.array([np.abs(ee) for ee in e])\n",
    "sigma_e = np.median(abs_e) / 0.675"
   ]
  },
  {
   "cell_type": "markdown",
   "id": "cbdd42ee",
   "metadata": {},
   "source": [
    "Теперь определим выбросы - это те элементы, отклонение которых не входит в промежуток $(-2\\sigma, 2\\sigma)$."
   ]
  },
  {
   "cell_type": "code",
   "execution_count": 106,
   "id": "9edcf07d",
   "metadata": {},
   "outputs": [
    {
     "name": "stdout",
     "output_type": "stream",
     "text": [
      "4-ый элемент является выбросом\n",
      "6-ый элемент является выбросом\n"
     ]
    }
   ],
   "source": [
    "for i in np.where(np.abs(e) >= 2*sigma_e)[0]:\n",
    "    print(f\"{i}-ый элемент является выбросом\")"
   ]
  },
  {
   "cell_type": "markdown",
   "id": "98dc75bb",
   "metadata": {},
   "source": [
    "Очистим выборку от выбросов."
   ]
  },
  {
   "cell_type": "code",
   "execution_count": 107,
   "id": "4187566e",
   "metadata": {},
   "outputs": [],
   "source": [
    "Psi_clean = Psi.copy()\n",
    "Psi_clean = np.delete(Psi_clean, np.where(np.abs(e) >= 2*sigma_e)[0], 0)\n",
    "\n",
    "Y_clean = Y.copy()\n",
    "Y_clean = np.delete(Y_clean, np.where(np.abs(e) >= 2*sigma_e)[0], 0)"
   ]
  },
  {
   "cell_type": "markdown",
   "id": "1ffe8bc7",
   "metadata": {},
   "source": [
    "Построим линейную регрессию на основе \"чистой\" выборки без выбросов. Построим уравнение регрессии и определим коэффициент детерминации."
   ]
  },
  {
   "cell_type": "code",
   "execution_count": 138,
   "id": "e45fbd6c",
   "metadata": {},
   "outputs": [
    {
     "name": "stdout",
     "output_type": "stream",
     "text": [
      "Коэффициент детерминации: R² = 0.7907\n",
      "Уравнение регрессии: 𝜂 = 1.8057 + 3.287·𝜉₁ + -1.9499·𝜉₂ + 1.4957·𝜉₃ + 1.2369·𝜉₄ + -0.3352·𝜉₅\n"
     ]
    }
   ],
   "source": [
    "lr_clean = LinearRegression(Psi_clean, Y_clean)\n",
    "\n",
    "beta_est_clean = lr_clean.beta_est()\n",
    "\n",
    "print(f\"Коэффициент детерминации: R² = {round(lr_clean.R2(), 4)}\")\n",
    "\n",
    "print(f\"Уравнение регрессии: 𝜂 = {round(beta_est_clean[0], 4)}\", end='')\n",
    "for i in range(k):\n",
    "    print(f\" + {round(beta_est_clean[i+1], 4)}·𝜉{LOW_INDEX[i+1]}\", end='')\n",
    "print()"
   ]
  },
  {
   "cell_type": "markdown",
   "id": "07c0d0f1",
   "metadata": {},
   "source": [
    "### h) Провести кросс-проверку регрессии."
   ]
  },
  {
   "cell_type": "markdown",
   "id": "0e1c4b72",
   "metadata": {},
   "source": [
    "Проведем кросс-валидацию регрессии. Для этого выделим 50 контрольных элементов и для каждого рассчитаем коэффициент $CV$. После рассчитаем коэффициент $CVSS$, а затем $R_{CV}^{2}$.\n",
    "\n",
    "Далее сравним полученный по итогам кросс-валидации $R_{CV}^{2}$ и рассчитанный ранее коэффициент детерминации $R^2$."
   ]
  },
  {
   "cell_type": "code",
   "execution_count": 109,
   "id": "4d6aa121",
   "metadata": {},
   "outputs": [
    {
     "name": "stdout",
     "output_type": "stream",
     "text": [
      "По итогам кросс-валидации: R² = 0.6433299782222162\n",
      "По исходной выборке: R² = 0.7227806055353866\n"
     ]
    }
   ],
   "source": [
    "CVs = np.zeros(Psi.shape[0])\n",
    "\n",
    "for i in range(Psi.shape[0]):\n",
    "    Psi_i = np.delete(Psi, [i], 0)\n",
    "    Y_i = np.delete(Y, [i], 0)\n",
    "    lr_i = LinearRegression(Psi_i, Y_i)\n",
    "    beta_est_i = lr_i.beta_est()\n",
    "    y_est = Psi[i, :] @ beta_est_i\n",
    "    y_fact = Y[i]\n",
    "    CVs[i] = (y_est - y_fact)**2\n",
    "\n",
    "CVSS = np.sum([CV for CV in CVs])\n",
    "Rcv2 = (lr.TSS() - CVSS) / lr.TSS()\n",
    "\n",
    "print(f\"По итогам кросс-валидации: R² = {Rcv2}\")\n",
    "print(f\"По исходной выборке: R² = {lr.R2()}\")"
   ]
  },
  {
   "cell_type": "markdown",
   "id": "b74cc354",
   "metadata": {},
   "source": [
    "### i) Проверить адекватность регрессии, сделав 5 повторных измерений в одной точке."
   ]
  },
  {
   "cell_type": "markdown",
   "id": "038a4f9e",
   "metadata": {},
   "source": [
    "Зафиксируем значение $x$, взяв первый элемент выборки."
   ]
  },
  {
   "cell_type": "code",
   "execution_count": 110,
   "id": "a486449c",
   "metadata": {},
   "outputs": [
    {
     "name": "stdout",
     "output_type": "stream",
     "text": [
      "x = (-0.7979, -0.0002, -0.2611, -0.2634, -0.5948)\n"
     ]
    }
   ],
   "source": [
    "x_fixed = Psi[0, 1:]\n",
    "print(f\"x = ({round(x_fixed[0], 4)}, {round(x_fixed[1], 4)}, {round(x_fixed[2], 4)}, {round(x_fixed[3], 4)}, {round(x_fixed[4], 4)})\")"
   ]
  },
  {
   "cell_type": "markdown",
   "id": "5c72f8d3",
   "metadata": {},
   "source": [
    "При этом значение $y$, соответствующее этому элементу выборки."
   ]
  },
  {
   "cell_type": "code",
   "execution_count": 111,
   "id": "b6257ad2",
   "metadata": {},
   "outputs": [
    {
     "name": "stdout",
     "output_type": "stream",
     "text": [
      "y = -1.0081\n"
     ]
    }
   ],
   "source": [
    "y_real = Y[0]\n",
    "print(f\"y = {round(y_real, 4)}\")"
   ]
  },
  {
   "cell_type": "markdown",
   "id": "47e76034",
   "metadata": {},
   "source": [
    "Проведем $m = 5$ измерений $y$, основываясь на функции распределения $\\eta$."
   ]
  },
  {
   "cell_type": "code",
   "execution_count": 112,
   "id": "9ccf651f",
   "metadata": {},
   "outputs": [
    {
     "name": "stdout",
     "output_type": "stream",
     "text": [
      "y₁ = -1.0805; y₂ = 1.5106; y₃ = -1.1104; y₄ = -0.9394; y₅ = -1.7275; "
     ]
    }
   ],
   "source": [
    "m = 5\n",
    "y_measures = (2 + 3*x_fixed[0] - 2*x_fixed[1] + x_fixed[2] + x_fixed[3] - x_fixed[4]) * np.ones((m,)) + 1.5 * np.random.randn(5)\n",
    "for i in range(m):\n",
    "    print(f\"y{LOW_INDEX[i+1]} = {round(y_measures[i], 4)};\", end=' ')"
   ]
  },
  {
   "cell_type": "markdown",
   "id": "3b916214",
   "metadata": {},
   "source": [
    "Рассчитаем $\\sigma^2$."
   ]
  },
  {
   "cell_type": "code",
   "execution_count": 113,
   "id": "86cd7856",
   "metadata": {},
   "outputs": [
    {
     "name": "stdout",
     "output_type": "stream",
     "text": [
      "𝜎² = 1.5771\n"
     ]
    }
   ],
   "source": [
    "std2_measures = 1 / (m - 1) * np.sum([(y - np.mean(y_measures))**2 for y in y_measures])\n",
    "\n",
    "print(f\"𝜎² = {round(std2_measures, 4)}\")"
   ]
  },
  {
   "cell_type": "markdown",
   "id": "00994f94",
   "metadata": {},
   "source": [
    "Теперь определим $\\Delta$."
   ]
  },
  {
   "cell_type": "code",
   "execution_count": 114,
   "id": "5a0bd86e",
   "metadata": {},
   "outputs": [
    {
     "name": "stdout",
     "output_type": "stream",
     "text": [
      "Δ = 1.7272\n"
     ]
    }
   ],
   "source": [
    "delta = lr.RSS() / (n - p) / std2_measures\n",
    "print(f\"Δ = {round(delta, 4)}\")"
   ]
  },
  {
   "cell_type": "code",
   "execution_count": 115,
   "id": "0a549947",
   "metadata": {},
   "outputs": [
    {
     "name": "stdout",
     "output_type": "stream",
     "text": [
      "p-value = 0.3206 => Нет оснований отвергнуть гипотезу об адекватности регрессии.\n"
     ]
    }
   ],
   "source": [
    "p_value = sp.integrate.quad(lambda x : fisher_dist(n - p, m - 1, x), delta, +math.inf)[0]\n",
    "print(f\"p-value = {round(p_value, 4)}\", end=' ')\n",
    "if p_value < alpha:\n",
    "    print(\"=> Отвергаем гипотезу об адекватности регрессии.\")\n",
    "else:\n",
    "    print(\"=> Нет оснований отвергнуть гипотезу об адекватности регрессии.\")"
   ]
  },
  {
   "cell_type": "markdown",
   "id": "105cb119",
   "metadata": {},
   "source": [
    "### j) Удалить переменную, соответсвующую наименее значимому коэффициенту и повторить пункты b и c, сравнить уравнения регрессии."
   ]
  },
  {
   "cell_type": "markdown",
   "id": "a0ceec14",
   "metadata": {},
   "source": [
    "Удалим наименее значимый коэффициент и построим новую линейную регрессию и ее уравнение."
   ]
  },
  {
   "cell_type": "code",
   "execution_count": 136,
   "id": "0d54659f",
   "metadata": {},
   "outputs": [
    {
     "name": "stdout",
     "output_type": "stream",
     "text": [
      "Уравнение упрощенной регрессии: 𝜂 = 1.8245 + 3.149·𝜉₁ + -1.8558·𝜉₂ + 1.5233·𝜉₃ + 1.1178·𝜉₄\n"
     ]
    }
   ],
   "source": [
    "Psi_simplified = np.delete(Psi, no_valuable, 1)\n",
    "lr_simplified = LinearRegression(Psi_simplified, Y)\n",
    "\n",
    "beta_est_simplified = lr_simplified.beta_est()\n",
    "\n",
    "print(f\"Уравнение упрощенной регрессии: 𝜂 = {round(beta_est_simplified[0], 4)}\", end='')\n",
    "for i in range(k):\n",
    "    if i+1 in no_valuable:\n",
    "        continue\n",
    "    print(f\" + {round(beta_est_simplified[i+1], 4)}·𝜉{LOW_INDEX[i+1]}\", end='')\n",
    "print()"
   ]
  },
  {
   "cell_type": "code",
   "execution_count": 134,
   "id": "2fffd5d1",
   "metadata": {},
   "outputs": [
    {
     "name": "stdout",
     "output_type": "stream",
     "text": [
      "Коэффициент детерминации упрощенной модели: R² = 0.7115\n"
     ]
    }
   ],
   "source": [
    "R2_simplified = lr_simplified.R2()\n",
    "print(f\"Коэффициент детерминации упрощенной модели: R² = {round(R2_simplified, 4)}\")"
   ]
  },
  {
   "cell_type": "markdown",
   "id": "ce04d876",
   "metadata": {},
   "source": [
    "Определим $\\Delta$ и $\\text{p-value}$."
   ]
  },
  {
   "cell_type": "code",
   "execution_count": 135,
   "id": "64ab88d0",
   "metadata": {},
   "outputs": [
    {
     "name": "stdout",
     "output_type": "stream",
     "text": [
      "Δ = 27.7515; p-value = 1.2086302827185855e-11 => Отвергаем гипотезу о незначимости коэффициента R².\n"
     ]
    }
   ],
   "source": [
    "delta = R2_simplified / (1 - R2_simplified) * (n - (p - 1)) / ((p - 1) - 1)\n",
    "print(f\"Δ = {round(delta, 4)};\", end=' ')\n",
    "\n",
    "p_value = sp.integrate.quad(lambda x : fisher_dist((p - 1) - 1, n - (p - 1), x), delta, +math.inf)[0]\n",
    "print(f\"p-value = {p_value}\", end=' ')\n",
    "\n",
    "if p_value < alpha:\n",
    "    print(f\"=> Отвергаем гипотезу о незначимости коэффициента R².\")\n",
    "else:\n",
    "    print(f\"=> Нет оснований отвергнуть гипотезу о незначимости коэффициента R².\")"
   ]
  },
  {
   "cell_type": "markdown",
   "id": "61a6512c",
   "metadata": {},
   "source": [
    "### k) Сравнить уравнения регрессии бутстрапом."
   ]
  },
  {
   "cell_type": "markdown",
   "id": "e8313d71",
   "metadata": {},
   "source": [
    "Воспользуемся непараметрическим бутстрапом для сравнения изначальной версии регрессии с ее упрощенной версией."
   ]
  },
  {
   "cell_type": "code",
   "execution_count": 123,
   "id": "1acf9163",
   "metadata": {},
   "outputs": [],
   "source": [
    "N = 1000\n",
    "deltas = np.zeros(N, dtype=float)\n",
    "\n",
    "Psi_simplified = np.delete(Psi, no_valuable[0], 1)\n",
    "\n",
    "for i in range(N):\n",
    "    random_choice = np.random.choice(n, n)\n",
    "    Psi_subselection = Psi[random_choice, :]\n",
    "    Y_subselection = Y[random_choice]\n",
    "    random_choice = np.random.choice(n, n)\n",
    "    Psi_simplified_subselection = Psi_simplified[random_choice]\n",
    "    Y_simplifiedd_subselection = Y[random_choice]\n",
    "    \n",
    "    lr_subselection = LinearRegression(Psi_subselection, Y_subselection)\n",
    "    lr_simplified_subselection = LinearRegression(Psi_simplified_subselection, Y_simplifiedd_subselection)\n",
    "    \n",
    "    deltas[i] = lr_subselection.R2() - lr_simplified_subselection.R2()"
   ]
  },
  {
   "cell_type": "markdown",
   "id": "97acd169",
   "metadata": {},
   "source": [
    "Рассчитаем $\\Delta$."
   ]
  },
  {
   "cell_type": "code",
   "execution_count": 130,
   "id": "2c6b3743",
   "metadata": {},
   "outputs": [
    {
     "name": "stdout",
     "output_type": "stream",
     "text": [
      "Δ = 0.0112\n"
     ]
    }
   ],
   "source": [
    "delta = lr.R2() - LinearRegression(Psi_simplified, Y).R2()\n",
    "print(f\"Δ = {round(delta, 4)}\")"
   ]
  },
  {
   "cell_type": "markdown",
   "id": "49159646",
   "metadata": {},
   "source": [
    "Рассчитаем $\\text{p-value}$ по формуле:\n",
    "\n",
    "$\\text{p-value} = \\frac{m}{N}$, где $m$ - номер первого элемента в вариационном ряде $\\Delta_{(k)}$, который больше рассчитанной ранее $\\Delta$."
   ]
  },
  {
   "cell_type": "code",
   "execution_count": 131,
   "id": "7f644124",
   "metadata": {},
   "outputs": [
    {
     "name": "stdout",
     "output_type": "stream",
     "text": [
      "p-value = 0.476 => Нет оснований отвергать упрощенную модель регрессии.\n"
     ]
    }
   ],
   "source": [
    "p_value = (np.where(deltas > delta)[0][0] + 1) / N\n",
    "print(f\"p-value = {round(p_value, 4)}\", end=' ')\n",
    "if p_value > alpha:\n",
    "    print(f\"=> Нет оснований отвергать упрощенную модель регрессии.\")\n",
    "else:\n",
    "    print(f\"=> Отвергаем упрощенную модель регрессии.\")"
   ]
  }
 ],
 "metadata": {
  "kernelspec": {
   "display_name": "Python 3 (ipykernel)",
   "language": "python",
   "name": "python3"
  },
  "language_info": {
   "codemirror_mode": {
    "name": "ipython",
    "version": 3
   },
   "file_extension": ".py",
   "mimetype": "text/x-python",
   "name": "python",
   "nbconvert_exporter": "python",
   "pygments_lexer": "ipython3",
   "version": "3.8.10"
  }
 },
 "nbformat": 4,
 "nbformat_minor": 5
}
