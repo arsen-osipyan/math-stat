{
 "cells": [
  {
   "cell_type": "code",
   "execution_count": 1,
   "metadata": {},
   "outputs": [],
   "source": [
    "import math\n",
    "import numpy as np\n",
    "import random\n",
    "import matplotlib.pyplot as plt\n",
    "from scipy.integrate import quad\n",
    "%matplotlib inline\n",
    "\n",
    "low_indexes  = ['₀', '₁', '₂', '₃', '₄', '₅']\n",
    "beta_repr = '𝛽'\n",
    "ksi_repr =  '𝜉'\n",
    "\n",
    "def generate():\n",
    "    x = [random.uniform(-1, 1) for _ in range(5)]\n",
    "    mean = 2+3*x[0]-2*x[1]+x[2]+x[3]-x[4]\n",
    "    x.append(random.normalvariate(mean, 1.5))\n",
    "#     x.append(mean + random.normalvariate(0, 1))\n",
    "    return x\n",
    "\n",
    "volume = 50\n",
    "p = 6\n",
    "alpha = 0.05\n",
    "x = [generate() for _ in range(volume)]\n",
    "\n",
    "class linear_resression():\n",
    "    def __init__(self, Y, PSI):\n",
    "        self.Y = Y\n",
    "        self.PSI = PSI\n",
    "        self._calc()\n",
    "    \n",
    "    def _calc(self):\n",
    "        self.Finv = np.linalg.inv(self.PSI.T.dot(self.PSI))\n",
    "        self.beta = self.Finv.dot(self.PSI.T).dot(self.Y)\n",
    "        self.e = self.Y - self.PSI.dot(self.beta)\n",
    "        self.RSS = self.e.T.dot(self.e)\n",
    "\n",
    "        y_mean = sum(self.Y)/len(self.Y)\n",
    "        TSS = 0\n",
    "        for el in self.Y:\n",
    "            TSS += (el - y_mean)**2\n",
    "        self.TSS = TSS\n",
    "        self.R2 = (self.TSS - self.RSS)/self.TSS\n",
    "\n",
    "        \n",
    "        \n",
    "        "
   ]
  },
  {
   "cell_type": "markdown",
   "metadata": {},
   "source": [
    "## Пункт $a$. Проверка мультиколлинеарности $\\xi_k$"
   ]
  },
  {
   "cell_type": "code",
   "execution_count": 2,
   "metadata": {},
   "outputs": [
    {
     "name": "stdout",
     "output_type": "stream",
     "text": [
      "Значение коэффициента детерминации при построении регрессии относительно фактора 𝜉₁ равно 0.0767\n",
      "Значение коэффициента детерминации при построении регрессии относительно фактора 𝜉₂ равно 0.026\n",
      "Значение коэффициента детерминации при построении регрессии относительно фактора 𝜉₃ равно 0.1186\n",
      "Значение коэффициента детерминации при построении регрессии относительно фактора 𝜉₄ равно 0.0699\n",
      "Значение коэффициента детерминации при построении регрессии относительно фактора 𝜉₅ равно 0.0506\n",
      "\n",
      "Эта выборка не является мультиколлинеарной!\n"
     ]
    }
   ],
   "source": [
    "def get_PSI_and_Y_for_MC(without_ksi_n, sample):\n",
    "    PSI = []\n",
    "    Y = []\n",
    "    for el in sample:\n",
    "        string = el[:-1]\n",
    "        if without_ksi_n == 0:\n",
    "            string = string[1:]\n",
    "        elif without_ksi_n == 4:\n",
    "            string = string[:-1]\n",
    "        else:\n",
    "            string = string[:without_ksi_n] + string[without_ksi_n+1:]\n",
    "            \n",
    "        PSI.append([1] + string)\n",
    "        Y.append(el[without_ksi_n])\n",
    "        \n",
    "    return np.array(PSI), np.array(Y).T\n",
    "\n",
    "def check_multicollinearity(without_ksi_n, sample):\n",
    "    PSI, Y = get_PSI_and_Y_for_MC(without_ksi_n=without_ksi_n, sample=sample)\n",
    "    regr = linear_resression(PSI=PSI, Y=Y)\n",
    "    return (regr.TSS-regr.RSS)/regr.TSS\n",
    "\n",
    "_flag = False\n",
    "for i in range(5):\n",
    "    a = check_multicollinearity(without_ksi_n=i,sample=x)\n",
    "    print(f\"Значение коэффициента детерминации при построении регрессии относительно фактора {ksi_repr}{low_indexes[i+1]} равно {round(a,4)}\")\n",
    "    if(a > 0.7):\n",
    "        _flag = True\n",
    "        break\n",
    "        \n",
    "if _flag:\n",
    "    print(f\"\\nЭта выборка мультиколлинеарна по параметру {ksi_repr}{low_indexes[i+1]}! Необходимо пересобрать выборку\")\n",
    "else:\n",
    "    print(f\"\\nЭта выборка не является мультиколлинеарной!\")\n",
    "\n",
    "    "
   ]
  },
  {
   "cell_type": "markdown",
   "metadata": {},
   "source": [
    "## Пункт $b1$. Нахождение уравнения линейной регрессии"
   ]
  },
  {
   "cell_type": "code",
   "execution_count": 3,
   "metadata": {},
   "outputs": [
    {
     "name": "stdout",
     "output_type": "stream",
     "text": [
      "Уравнение регрессии: 𝜂 = 2.0 + 3.0∙𝜉₁ - 3.14∙𝜉₂ + 1.14∙𝜉₃ + 0.48∙𝜉₄ - 0.74∙𝜉₅\n"
     ]
    }
   ],
   "source": [
    "def get_PSI_and_Y(sample):\n",
    "    PSI = []\n",
    "    Y = []\n",
    "    for el in sample:\n",
    "        PSI.append([1] + el[:-1])\n",
    "        Y.append(el[-1])\n",
    "    return np.array(PSI), np.array(Y).T\n",
    "\n",
    "def format_equation(beta):\n",
    "    ret = f\"Уравнение регрессии: 𝜂 = {round(beta[0],2)}\"\n",
    "    for i in range(1, len(beta)):\n",
    "        number = round(beta[i], 2)\n",
    "        if number > 0:\n",
    "            ret += f\" + {number}∙{ksi_repr}{low_indexes[i]}\"\n",
    "        else:\n",
    "            ret += f\" - {-number}∙{ksi_repr}{low_indexes[i]}\"\n",
    "    return ret\n",
    "\n",
    "\n",
    "PSI, Y = get_PSI_and_Y(x)\n",
    "main_regr = linear_resression(PSI = PSI, Y = Y)\n",
    "print(format_equation(main_regr.beta))\n"
   ]
  },
  {
   "cell_type": "markdown",
   "metadata": {},
   "source": [
    "## Пункт $b2$. Проверка значимости коэффициентов регрессии\n",
    "\n",
    "## $\\Delta = \\frac{\\widetilde\\beta_0}{\\sqrt{RSS∙F_{00}^{-1}}}\\sqrt{n-p} \\sim t(n-p)$"
   ]
  },
  {
   "cell_type": "code",
   "execution_count": 4,
   "metadata": {},
   "outputs": [
    {
     "name": "stdout",
     "output_type": "stream",
     "text": [
      "Коэффициент 𝛽₀ значим! 9.331402409539412e-12\n",
      "Коэффициент 𝛽₁ значим! 3.2123813834247523e-10\n",
      "Коэффициент 𝛽₂ значим! 1.0445759649253894e-09\n",
      "Коэффициент 𝛽₃ значим! 0.016699670744114565\n",
      "Коэффициент 𝛽₄ не является значимым 0.24859265546615128\n",
      "Коэффициент 𝛽₅ не является значимым 0.05780523693945885\n"
     ]
    }
   ],
   "source": [
    "def delta_assessment_b2(delta_index):\n",
    "    if delta_index >= p:\n",
    "        raise RuntimeError(f\"Индекс коэффициента регрессии может принимать только значения от 0 до {p-1}!\")\n",
    "    return main_regr.beta[delta_index]/(main_regr.RSS*main_regr.Finv[delta_index][delta_index])**0.5*(volume - p)**0.5\n",
    "\n",
    "def get_pvalue_b2(fr): # распределение Стьюдента\n",
    "    fr = abs(fr)\n",
    "    k = volume-p\n",
    "    def f(x):\n",
    "        return math.gamma((k+1)/2)/((k*math.pi)**0.5 * math.gamma(k/2) * (1 + x**2/k)**((k+1)/2))\n",
    "    ret, _ = quad(f, fr, math.inf)\n",
    "    return 2*ret\n",
    "\n",
    "\n",
    "index_less_important = 0\n",
    "pval_less_important = 0\n",
    "\n",
    "for i in range(6):\n",
    "    delta = delta_assessment_b2(i)\n",
    "    pval = get_pvalue_b2(delta)\n",
    "    if pval > pval_less_important:\n",
    "        pval_less_important = pval\n",
    "        index_less_important = i\n",
    "    if pval > alpha:\n",
    "        print(f\"Коэффициент {beta_repr}{low_indexes[i]} не является значимым {pval}\")\n",
    "    else:\n",
    "        print(f\"Коэффициент {beta_repr}{low_indexes[i]} значим! {pval}\")\n"
   ]
  },
  {
   "cell_type": "markdown",
   "metadata": {},
   "source": [
    "## Пункт $c$. Определение коэффициента детерминации $R^2$ и проверка его значимости\n",
    "\n",
    "## $\\Delta = \\frac{R^2}{1-R^2}\\frac{n-p}{p-1} \\sim F(p-1, n-p)$"
   ]
  },
  {
   "cell_type": "code",
   "execution_count": 5,
   "metadata": {},
   "outputs": [
    {
     "name": "stdout",
     "output_type": "stream",
     "text": [
      "R² = 0.736\n"
     ]
    }
   ],
   "source": [
    "print(f\"R² = {round(main_regr.R2, 3)}\")"
   ]
  },
  {
   "cell_type": "code",
   "execution_count": 6,
   "metadata": {},
   "outputs": [
    {
     "name": "stdout",
     "output_type": "stream",
     "text": [
      "Гипотеза о незначимости регрессии отвергается, коэффициент детерминации является значимым\n",
      "Значение pvalue = 1.0003051394457153e-11\n"
     ]
    }
   ],
   "source": [
    "delta = main_regr.R2/(1-main_regr.R2)*(volume - p)/(p-1)\n",
    "\n",
    "def get_pvalue_c(fr): # распределение Фишера\n",
    "    d1 = p - 1\n",
    "    d2 = volume - p\n",
    "    def f(x):\n",
    "        return (((d1*x)**d1 * d2**d2) / (d1*x+d2)**(d1+d2))**0.5 / \\\n",
    "                (x * math.gamma(d1/2)*math.gamma(d2/2)/math.gamma((d1+d2)/2))\n",
    "    ret, _ = quad(f, fr, math.inf)\n",
    "    return ret\n",
    "\n",
    "pval = get_pvalue_c(delta)\n",
    "if pval < alpha:\n",
    "    print(f\"Гипотеза о незначимости регрессии отвергается, коэффициент детерминации является значимым\")\n",
    "else:\n",
    "    print(f\"Гипотеза о незначимости регрессии принимается\")\n",
    "    \n",
    "print(f\"Значение pvalue = {pval}\")\n",
    "    "
   ]
  },
  {
   "cell_type": "markdown",
   "metadata": {},
   "source": [
    "## Пункт $d$. Определение значения в точке $x_k = 0$ и построение 95% ДИ"
   ]
  },
  {
   "cell_type": "code",
   "execution_count": 7,
   "metadata": {},
   "outputs": [
    {
     "name": "stdout",
     "output_type": "stream",
     "text": [
      "Значение 𝜂 в точке 0 равно 1.999\n"
     ]
    }
   ],
   "source": [
    "PSI_assessment = np.array([1,0,0,0,0,0])\n",
    "y_assessment = PSI_assessment.dot(main_regr.beta)\n",
    "print(f\"Значение 𝜂 в точке 0 равно {round(y_assessment, 4)}\")"
   ]
  },
  {
   "cell_type": "code",
   "execution_count": 8,
   "metadata": {},
   "outputs": [
    {
     "name": "stdout",
     "output_type": "stream",
     "text": [
      "Доверительный интервал для значения в точке х=0 с доверительной вероятностью 0.95: [-1.08, 5.078]\n"
     ]
    }
   ],
   "source": [
    "def Student_integral(to):\n",
    "    k = volume-p\n",
    "    def f(x):\n",
    "        return math.gamma((k+1)/2)/((k*math.pi)**0.5 * math.gamma(k/2) * (1 + x**2/k)**((k+1)/2))\n",
    "    ret, _ = quad(f, -math.inf, to)\n",
    "    return ret\n",
    "\n",
    "def find_percentile(part):\n",
    "    if part < 0.5:\n",
    "        a = -1\n",
    "        b = 0\n",
    "        while Student_integral(a) > part:\n",
    "            a *= 2\n",
    "    else:\n",
    "        a = 0\n",
    "        b = 1\n",
    "        while Student_integral(b) < part:\n",
    "            b *= 2\n",
    "    eps = 0.0001\n",
    "    while abs(Student_integral((a+b)/2) - part) > eps:\n",
    "        if Student_integral((a+b)/2) > part:\n",
    "            b = (a+b)/2\n",
    "        else:\n",
    "            a = (a+b)/2\n",
    "    return (a+b)/2\n",
    "\n",
    "A = 1 + PSI_assessment.dot(main_regr.Finv).dot(PSI_assessment.T)\n",
    "\n",
    "conf_probability = 0.95\n",
    "percentile_left = (1-conf_probability)/2\n",
    "percentile_right = (1+conf_probability)/2\n",
    "left = find_percentile(percentile_left)\n",
    "right = find_percentile(percentile_right)\n",
    "coeff = ((A * main_regr.RSS) / (volume - p))**0.5\n",
    "CI_left = [y_assessment - right*coeff, y_assessment - left*coeff]\n",
    "print(f\"Доверительный интервал для значения в точке х=0 с доверительной вероятностью {conf_probability}: [{round(CI_left[0],3)}, {round(CI_left[1],3)}]\")"
   ]
  },
  {
   "cell_type": "markdown",
   "metadata": {},
   "source": [
    "## Пункт $e$.  Проверка предположения о независимости ошибок измерения\n",
    "\n",
    "\n",
    "## $\\Delta = \\frac{I - \\frac{n∙(n-1)}{4}}{\\sqrt{\\frac{n^3}{36}}} \\sim N(0,1)$"
   ]
  },
  {
   "cell_type": "code",
   "execution_count": 9,
   "metadata": {},
   "outputs": [
    {
     "name": "stdout",
     "output_type": "stream",
     "text": [
      "Все хорошо, ошибки независимы\n"
     ]
    }
   ],
   "source": [
    "def count_invertions(e):\n",
    "    ret = 0\n",
    "    for i in range(len(e)):\n",
    "        for j in range(i, len(e)):\n",
    "            if(e[i] > e[j]):\n",
    "                ret += 1\n",
    "    return ret\n",
    "\n",
    "def calc_pvalue_e(fr):\n",
    "    def f(x):\n",
    "        return 1/(2*math.pi)**0.5 * math.exp(-x*x / 2)\n",
    "    ret, _ = quad(f, fr, math.inf)\n",
    "    return ret\n",
    "\n",
    "I = count_invertions(main_regr.e)\n",
    "math_expectation = volume*(volume-1)/4\n",
    "variation = (volume**3 / 36)**0.5\n",
    "delta_assessment = abs((I - math_expectation) / variation)\n",
    "pval = 2*calc_pvalue_e(delta_assessment)\n",
    "if pval < alpha:\n",
    "    print(f\"Attention! Значения ошибки выглядят зависимыми! pvalue = {pval}\")\n",
    "else:\n",
    "    print(\"Все хорошо, ошибки независимы\")"
   ]
  },
  {
   "cell_type": "markdown",
   "metadata": {},
   "source": [
    "## Пункт $f$.  Проверка предположения о нормальности распределения ошибок\n"
   ]
  },
  {
   "cell_type": "code",
   "execution_count": 10,
   "metadata": {},
   "outputs": [
    {
     "name": "stdout",
     "output_type": "stream",
     "text": [
      "Progress: 0%\n",
      "Progress: 7%\n",
      "Progress: 13%\n",
      "Progress: 20%\n",
      "Progress: 27%\n",
      "Progress: 33%\n",
      "Progress: 40%\n",
      "Progress: 47%\n"
     ]
    },
    {
     "ename": "KeyboardInterrupt",
     "evalue": "",
     "output_type": "error",
     "traceback": [
      "\u001b[0;31m---------------------------------------------------------------------------\u001b[0m",
      "\u001b[0;31mKeyboardInterrupt\u001b[0m                         Traceback (most recent call last)",
      "Cell \u001b[0;32mIn [10], line 60\u001b[0m\n\u001b[1;32m     58\u001b[0m     sample \u001b[38;5;241m=\u001b[39m create_subsample(volume\u001b[38;5;241m=\u001b[39mvolume, a \u001b[38;5;241m=\u001b[39m main_params[\u001b[38;5;241m0\u001b[39m], b \u001b[38;5;241m=\u001b[39m main_params[\u001b[38;5;241m1\u001b[39m])\n\u001b[1;32m     59\u001b[0m     curr_params \u001b[38;5;241m=\u001b[39m OMM(sample)\n\u001b[0;32m---> 60\u001b[0m     curr_delta \u001b[38;5;241m=\u001b[39m volume\u001b[38;5;241m*\u001b[39m\u001b[38;5;241m*\u001b[39m\u001b[38;5;241m0.5\u001b[39m \u001b[38;5;241m*\u001b[39m \u001b[43mget_delta_Kolmog\u001b[49m\u001b[43m(\u001b[49m\u001b[43msample\u001b[49m\u001b[43m \u001b[49m\u001b[38;5;241;43m=\u001b[39;49m\u001b[43m \u001b[49m\u001b[43msample\u001b[49m\u001b[43m,\u001b[49m\u001b[43m \u001b[49m\u001b[43mparams\u001b[49m\u001b[43m \u001b[49m\u001b[38;5;241;43m=\u001b[39;49m\u001b[43m \u001b[49m\u001b[43mcurr_params\u001b[49m\u001b[43m)\u001b[49m\n\u001b[1;32m     61\u001b[0m     deltas\u001b[38;5;241m.\u001b[39mappend(curr_delta)\n\u001b[1;32m     63\u001b[0m deltas\u001b[38;5;241m.\u001b[39msort()\n",
      "Cell \u001b[0;32mIn [10], line 30\u001b[0m, in \u001b[0;36mget_delta_Kolmog\u001b[0;34m(sample, params)\u001b[0m\n\u001b[1;32m     28\u001b[0m p \u001b[38;5;241m=\u001b[39m [norm_probability(\u001b[38;5;241m-\u001b[39mmath\u001b[38;5;241m.\u001b[39minf, sample[\u001b[38;5;241m0\u001b[39m], params)]\n\u001b[1;32m     29\u001b[0m \u001b[38;5;28;01mfor\u001b[39;00m i \u001b[38;5;129;01min\u001b[39;00m \u001b[38;5;28mrange\u001b[39m(\u001b[38;5;241m1\u001b[39m, \u001b[38;5;28mlen\u001b[39m(sample)):\n\u001b[0;32m---> 30\u001b[0m     p\u001b[38;5;241m.\u001b[39mappend(\u001b[43mnorm_probability\u001b[49m\u001b[43m(\u001b[49m\u001b[43msample\u001b[49m\u001b[43m[\u001b[49m\u001b[43mi\u001b[49m\u001b[38;5;241;43m-\u001b[39;49m\u001b[38;5;241;43m1\u001b[39;49m\u001b[43m]\u001b[49m\u001b[43m,\u001b[49m\u001b[43m \u001b[49m\u001b[43msample\u001b[49m\u001b[43m[\u001b[49m\u001b[43mi\u001b[49m\u001b[43m]\u001b[49m\u001b[43m,\u001b[49m\u001b[43m \u001b[49m\u001b[43mparams\u001b[49m\u001b[43m)\u001b[49m)\n\u001b[1;32m     31\u001b[0m F_real \u001b[38;5;241m=\u001b[39m [p[\u001b[38;5;241m0\u001b[39m]]\n\u001b[1;32m     32\u001b[0m \u001b[38;5;28;01mfor\u001b[39;00m i \u001b[38;5;129;01min\u001b[39;00m \u001b[38;5;28mrange\u001b[39m(\u001b[38;5;241m1\u001b[39m, \u001b[38;5;28mlen\u001b[39m(p)):\n",
      "Cell \u001b[0;32mIn [10], line 15\u001b[0m, in \u001b[0;36mnorm_probability\u001b[0;34m(fr, to, params)\u001b[0m\n\u001b[1;32m     13\u001b[0m \u001b[38;5;28;01mdef\u001b[39;00m \u001b[38;5;21mf\u001b[39m(x):\n\u001b[1;32m     14\u001b[0m     \u001b[38;5;28;01mreturn\u001b[39;00m \u001b[38;5;241m1\u001b[39m\u001b[38;5;241m/\u001b[39m(\u001b[38;5;241m2\u001b[39m\u001b[38;5;241m*\u001b[39mmath\u001b[38;5;241m.\u001b[39mpi)\u001b[38;5;241m*\u001b[39m\u001b[38;5;241m*\u001b[39m\u001b[38;5;241m0.5\u001b[39m\u001b[38;5;241m/\u001b[39mb\u001b[38;5;241m*\u001b[39mmath\u001b[38;5;241m.\u001b[39mexp(\u001b[38;5;241m-\u001b[39m(x\u001b[38;5;241m-\u001b[39ma)\u001b[38;5;241m*\u001b[39m\u001b[38;5;241m*\u001b[39m\u001b[38;5;241m2\u001b[39m\u001b[38;5;241m/\u001b[39m\u001b[38;5;241m2\u001b[39m\u001b[38;5;241m/\u001b[39mb\u001b[38;5;241m/\u001b[39mb)\n\u001b[0;32m---> 15\u001b[0m ret, _ \u001b[38;5;241m=\u001b[39m \u001b[43mquad\u001b[49m\u001b[43m(\u001b[49m\u001b[43mf\u001b[49m\u001b[43m,\u001b[49m\u001b[43m \u001b[49m\u001b[43mfr\u001b[49m\u001b[43m,\u001b[49m\u001b[43m \u001b[49m\u001b[43mto\u001b[49m\u001b[43m)\u001b[49m;\n\u001b[1;32m     16\u001b[0m \u001b[38;5;28;01mreturn\u001b[39;00m ret\n",
      "File \u001b[0;32m~/Desktop/math-stat/venv/lib/python3.8/site-packages/scipy/integrate/_quadpack_py.py:411\u001b[0m, in \u001b[0;36mquad\u001b[0;34m(func, a, b, args, full_output, epsabs, epsrel, limit, points, weight, wvar, wopts, maxp1, limlst)\u001b[0m\n\u001b[1;32m    408\u001b[0m flip, a, b \u001b[38;5;241m=\u001b[39m b \u001b[38;5;241m<\u001b[39m a, \u001b[38;5;28mmin\u001b[39m(a, b), \u001b[38;5;28mmax\u001b[39m(a, b)\n\u001b[1;32m    410\u001b[0m \u001b[38;5;28;01mif\u001b[39;00m weight \u001b[38;5;129;01mis\u001b[39;00m \u001b[38;5;28;01mNone\u001b[39;00m:\n\u001b[0;32m--> 411\u001b[0m     retval \u001b[38;5;241m=\u001b[39m \u001b[43m_quad\u001b[49m\u001b[43m(\u001b[49m\u001b[43mfunc\u001b[49m\u001b[43m,\u001b[49m\u001b[43m \u001b[49m\u001b[43ma\u001b[49m\u001b[43m,\u001b[49m\u001b[43m \u001b[49m\u001b[43mb\u001b[49m\u001b[43m,\u001b[49m\u001b[43m \u001b[49m\u001b[43margs\u001b[49m\u001b[43m,\u001b[49m\u001b[43m \u001b[49m\u001b[43mfull_output\u001b[49m\u001b[43m,\u001b[49m\u001b[43m \u001b[49m\u001b[43mepsabs\u001b[49m\u001b[43m,\u001b[49m\u001b[43m \u001b[49m\u001b[43mepsrel\u001b[49m\u001b[43m,\u001b[49m\u001b[43m \u001b[49m\u001b[43mlimit\u001b[49m\u001b[43m,\u001b[49m\n\u001b[1;32m    412\u001b[0m \u001b[43m                   \u001b[49m\u001b[43mpoints\u001b[49m\u001b[43m)\u001b[49m\n\u001b[1;32m    413\u001b[0m \u001b[38;5;28;01melse\u001b[39;00m:\n\u001b[1;32m    414\u001b[0m     \u001b[38;5;28;01mif\u001b[39;00m points \u001b[38;5;129;01mis\u001b[39;00m \u001b[38;5;129;01mnot\u001b[39;00m \u001b[38;5;28;01mNone\u001b[39;00m:\n",
      "File \u001b[0;32m~/Desktop/math-stat/venv/lib/python3.8/site-packages/scipy/integrate/_quadpack_py.py:523\u001b[0m, in \u001b[0;36m_quad\u001b[0;34m(func, a, b, args, full_output, epsabs, epsrel, limit, points)\u001b[0m\n\u001b[1;32m    521\u001b[0m \u001b[38;5;28;01mif\u001b[39;00m points \u001b[38;5;129;01mis\u001b[39;00m \u001b[38;5;28;01mNone\u001b[39;00m:\n\u001b[1;32m    522\u001b[0m     \u001b[38;5;28;01mif\u001b[39;00m infbounds \u001b[38;5;241m==\u001b[39m \u001b[38;5;241m0\u001b[39m:\n\u001b[0;32m--> 523\u001b[0m         \u001b[38;5;28;01mreturn\u001b[39;00m \u001b[43m_quadpack\u001b[49m\u001b[38;5;241;43m.\u001b[39;49m\u001b[43m_qagse\u001b[49m\u001b[43m(\u001b[49m\u001b[43mfunc\u001b[49m\u001b[43m,\u001b[49m\u001b[43ma\u001b[49m\u001b[43m,\u001b[49m\u001b[43mb\u001b[49m\u001b[43m,\u001b[49m\u001b[43margs\u001b[49m\u001b[43m,\u001b[49m\u001b[43mfull_output\u001b[49m\u001b[43m,\u001b[49m\u001b[43mepsabs\u001b[49m\u001b[43m,\u001b[49m\u001b[43mepsrel\u001b[49m\u001b[43m,\u001b[49m\u001b[43mlimit\u001b[49m\u001b[43m)\u001b[49m\n\u001b[1;32m    524\u001b[0m     \u001b[38;5;28;01melse\u001b[39;00m:\n\u001b[1;32m    525\u001b[0m         \u001b[38;5;28;01mreturn\u001b[39;00m _quadpack\u001b[38;5;241m.\u001b[39m_qagie(func,bound,infbounds,args,full_output,epsabs,epsrel,limit)\n",
      "Cell \u001b[0;32mIn [10], line 14\u001b[0m, in \u001b[0;36mnorm_probability.<locals>.f\u001b[0;34m(x)\u001b[0m\n\u001b[1;32m     13\u001b[0m \u001b[38;5;28;01mdef\u001b[39;00m \u001b[38;5;21mf\u001b[39m(x):\n\u001b[0;32m---> 14\u001b[0m     \u001b[38;5;28;01mreturn\u001b[39;00m \u001b[38;5;241m1\u001b[39m\u001b[38;5;241m/\u001b[39m(\u001b[38;5;241m2\u001b[39m\u001b[38;5;241m*\u001b[39mmath\u001b[38;5;241m.\u001b[39mpi)\u001b[38;5;241m*\u001b[39m\u001b[38;5;241m*\u001b[39m\u001b[38;5;241m0.5\u001b[39m\u001b[38;5;241m/\u001b[39mb\u001b[38;5;241m*\u001b[39mmath\u001b[38;5;241m.\u001b[39mexp(\u001b[38;5;241;43m-\u001b[39;49m\u001b[43m(\u001b[49m\u001b[43mx\u001b[49m\u001b[38;5;241;43m-\u001b[39;49m\u001b[43ma\u001b[49m\u001b[43m)\u001b[49m\u001b[38;5;241;43m*\u001b[39;49m\u001b[38;5;241;43m*\u001b[39;49m\u001b[38;5;241;43m2\u001b[39;49m\u001b[38;5;241;43m/\u001b[39;49m\u001b[38;5;241;43m2\u001b[39;49m\u001b[38;5;241;43m/\u001b[39;49m\u001b[43mb\u001b[49m\u001b[38;5;241m/\u001b[39mb)\n",
      "\u001b[0;31mKeyboardInterrupt\u001b[0m: "
     ]
    }
   ],
   "source": [
    "def OMM(e):\n",
    "    a1 = sum(e) / len(e)\n",
    "    a2 = 0\n",
    "    for el in e:\n",
    "        a2 += el**2\n",
    "    a2 /= len(e)\n",
    "    d = a2 - a1**2\n",
    "    return (a1, d**0.5)\n",
    "\n",
    "def norm_probability(fr, to, params):\n",
    "    a = params[0]\n",
    "    b = params[1]\n",
    "    def f(x):\n",
    "        return 1/(2*math.pi)**0.5/b*math.exp(-(x-a)**2/2/b/b)\n",
    "    ret, _ = quad(f, fr, to);\n",
    "    return ret\n",
    "\n",
    "def create_subsample(volume, a, b):\n",
    "    return sorted(b * np.random.randn(volume) + a)\n",
    "\n",
    "def get_real_F():\n",
    "    pass\n",
    "\n",
    "def get_delta_Kolmog(sample, params):\n",
    "    F_down = [0] + list(sample[:-1])\n",
    "    F_up = sample.copy()\n",
    "    \n",
    "    p = [norm_probability(-math.inf, sample[0], params)]\n",
    "    for i in range(1, len(sample)):\n",
    "        p.append(norm_probability(sample[i-1], sample[i], params))\n",
    "    F_real = [p[0]]\n",
    "    for i in range(1, len(p)):\n",
    "        F_real.append(F_real[-1] + p[i])\n",
    "        \n",
    "    ret = 0\n",
    "    \n",
    "#     print(len(F_real), len(F_down), len(F_up))\n",
    "    for i in range(len(F_real)):\n",
    "        curr = max(abs(F_real[i] - F_down[i]), abs(F_real[i] - F_up[i]))\n",
    "        if curr > ret:\n",
    "            ret = curr\n",
    "            \n",
    "    return ret\n",
    "    \n",
    "\n",
    "\n",
    "main_params = OMM(main_regr.e)\n",
    "\n",
    "delta_main = volume**0.5 * get_delta_Kolmog(sample = main_regr.e, params = main_params)\n",
    "\n",
    "LL = 50000\n",
    "\n",
    "\n",
    "deltas = []\n",
    "for i in range(LL):\n",
    "    if i%(LL//15) == 0:\n",
    "        print(f\"Progress: {round(i/LL*100)}%\")\n",
    "    sample = create_subsample(volume=volume, a = main_params[0], b = main_params[1])\n",
    "    curr_params = OMM(sample)\n",
    "    curr_delta = volume**0.5 * get_delta_Kolmog(sample = sample, params = curr_params)\n",
    "    deltas.append(curr_delta)\n",
    "\n",
    "deltas.sort()\n",
    "k = 0\n",
    "for i  in range(len(deltas)):\n",
    "    if deltas[i] < delta_main and deltas[i+1] >= delta_main:\n",
    "        k = i\n",
    "        break\n",
    "pval = 1 - k/LL\n",
    "print(f\"По выборке 𝛿: {delta_main}\")\n",
    "print(f\"p-value: {pval}\")\n",
    "\n",
    "if pval > alpha:\n",
    "    print(\"Нет оснований отвергать нормальность распределения\")\n",
    "else:\n",
    "    print(\"Ошибки распределены не нормально!\")\n",
    "\n"
   ]
  },
  {
   "cell_type": "markdown",
   "metadata": {},
   "source": [
    "## Пункт $g$. Проверка регрессии на выбросы "
   ]
  },
  {
   "cell_type": "code",
   "execution_count": null,
   "metadata": {},
   "outputs": [],
   "source": [
    "e_abs = [abs(el) for el in main_regr.e]\n",
    "e_median = e_abs[len(e_abs)//2] if len(e_abs) % 2 == 1 else 0.5*(e_abs[len(e_abs)//2 - 1] + e_abs[len(e_abs)//2]) \n",
    "sigma = e_median / 0.675\n",
    "\n",
    "bad = []\n",
    "for i in range(len(e_abs)):\n",
    "    if e_abs[i] >= 2*sigma:\n",
    "        bad.append(i)\n",
    "        print(f\"Элемент номер {i} - выброс, значение отклонения {round(e_abs[i] / sigma, 3)} 𝜎\")"
   ]
  },
  {
   "cell_type": "markdown",
   "metadata": {},
   "source": [
    "## Для выборки без выбросов:"
   ]
  },
  {
   "cell_type": "code",
   "execution_count": null,
   "metadata": {},
   "outputs": [],
   "source": [
    "x_norm = []\n",
    "for i in range(len(x)):\n",
    "    if i in bad:\n",
    "        continue\n",
    "    else:\n",
    "        x_norm.append(x[i])\n",
    "        \n",
    "PSI_norm, Y_norm = get_PSI_and_Y(x_norm)\n",
    "r = linear_resression(PSI = PSI_norm, Y = Y_norm)\n",
    "print(format_equation(r.beta))\n",
    "print(f\"Для выборки без выбросов R² = {round(r.R2, 3)}\")\n"
   ]
  },
  {
   "cell_type": "markdown",
   "metadata": {},
   "source": [
    "## Пункт $h$. Кросс-валидация регрессии"
   ]
  },
  {
   "cell_type": "code",
   "execution_count": null,
   "metadata": {
    "scrolled": true
   },
   "outputs": [],
   "source": [
    "CVSS = 0\n",
    "for i in range(len(x)):\n",
    "    subsample = []\n",
    "    for j in range(len(x)):\n",
    "        if i == j:\n",
    "            continue\n",
    "        else:\n",
    "            subsample.append(x[j])\n",
    "    checker = x[i]\n",
    "    CURR_PSI, CURR_Y = get_PSI_and_Y(subsample)\n",
    "    curr_regr = linear_resression(PSI = CURR_PSI, Y = CURR_Y)\n",
    "    PSI_assessment = np.array([1, checker[0],checker[1],checker[2],checker[3],checker[4]])\n",
    "    y_assessment = PSI_assessment.dot(curr_regr.beta)\n",
    "    curr_delta = (checker[5] - y_assessment)**2\n",
    "    CVSS += curr_delta\n",
    "\n",
    "R2CV = (main_regr.TSS - CVSS)/main_regr.TSS\n",
    "print(f\"R²CV = {round(R2CV,3)}, по регрессии R² = {round(main_regr.R2, 3)}\")\n",
    "    "
   ]
  },
  {
   "cell_type": "markdown",
   "metadata": {},
   "source": [
    "## То же самое, но для выборки без выбросов:"
   ]
  },
  {
   "cell_type": "code",
   "execution_count": null,
   "metadata": {},
   "outputs": [],
   "source": [
    "CVSS = 0\n",
    "for i in range(len(x_norm)):\n",
    "    subsample = []\n",
    "    for j in range(len(x_norm)):\n",
    "        if i == j:\n",
    "            continue\n",
    "        else:\n",
    "            subsample.append(x_norm[j])\n",
    "    checker = x_norm[i]\n",
    "    CURR_PSI, CURR_Y = get_PSI_and_Y(subsample)\n",
    "    curr_regr = linear_resression(PSI = CURR_PSI, Y = CURR_Y)\n",
    "    PSI_assessment = np.array([1, checker[0],checker[1],checker[2],checker[3],checker[4]])\n",
    "    y_assessment = PSI_assessment.dot(curr_regr.beta)\n",
    "    curr_delta = (checker[5] - y_assessment)**2\n",
    "    CVSS += curr_delta\n",
    "\n",
    "R2CV = (r.TSS - CVSS)/r.TSS\n",
    "print(f\"R²CV = {round(R2CV,3)}, по регрессии R² = {round(r.R2,3)}\")"
   ]
  },
  {
   "cell_type": "markdown",
   "metadata": {},
   "source": [
    "## Пункт $i$. Проверка адекватности регрессии\n"
   ]
  },
  {
   "cell_type": "code",
   "execution_count": null,
   "metadata": {},
   "outputs": [],
   "source": [
    "k = 5\n",
    "\n",
    "def get_pvalue_i(fr): # распределение Фишера\n",
    "    d1 = volume - p\n",
    "    d2 = k - 1\n",
    "    def f(x):\n",
    "        return (((d1*x)**d1 * d2**d2) / (d1*x+d2)**(d1+d2))**0.5 / \\\n",
    "                (x * math.gamma(d1/2)*math.gamma(d2/2)/math.gamma((d1+d2)/2))\n",
    "    ret, _ = quad(f, fr, math.inf)\n",
    "    return ret\n",
    "\n",
    "fix_x = x[0][:-1]\n",
    "mean = 2+3*fix_x[0]-2*fix_x[1]+fix_x[2]+fix_x[3]-fix_x[4]\n",
    "values = [random.normalvariate(mean, 1.5) for _ in range(k)]\n",
    "\n",
    "sigma1_squared = 0\n",
    "value_mean = sum(values) / len(values)\n",
    "for el in values:\n",
    "    sigma1_squared += (el - value_mean)**2\n",
    "sigma1_squared /= (len(values) - 1)\n",
    "\n",
    "delta = main_regr.RSS / (volume - p)/sigma1_squared\n",
    "pvalue = get_pvalue_i(delta)\n",
    "print(pvalue)\n",
    "if pvalue > alpha:\n",
    "    print(f\"Регрессия адекватна\")\n",
    "else:\n",
    "    print(f\"Регрессия не является адекватной!\")"
   ]
  },
  {
   "cell_type": "markdown",
   "metadata": {},
   "source": [
    "## Пункт $j$. Удаление наименее значимого коэффициента и повторение пунктов $b, c$"
   ]
  },
  {
   "cell_type": "code",
   "execution_count": null,
   "metadata": {},
   "outputs": [],
   "source": [
    "def get_PSI_and_Y_for_simplified(without_ksi_n, sample):\n",
    "    PSI = []\n",
    "    Y = []\n",
    "    for el in sample:\n",
    "        string = el[:-1]\n",
    "        if without_ksi_n == 0:\n",
    "            string = string[1:]\n",
    "        elif without_ksi_n == 4:\n",
    "            string = string[:-1]\n",
    "        else:\n",
    "            string = string[:without_ksi_n] + string[without_ksi_n+1:]\n",
    "            \n",
    "        PSI.append([1] + string)\n",
    "        Y.append(el[-1])\n",
    "        \n",
    "    return np.array(PSI), np.array(Y).T\n",
    "\n",
    "new_PSI, new_Y = get_PSI_and_Y_for_simplified(without_ksi_n=index_less_important-1, sample=x)\n",
    "\n",
    "new_regr = linear_resression(PSI = new_PSI, Y = new_Y)\n",
    "print(format_equation(new_regr.beta))"
   ]
  },
  {
   "cell_type": "code",
   "execution_count": null,
   "metadata": {},
   "outputs": [],
   "source": [
    "loc_p = p - 1\n",
    "\n",
    "def delta_assessment_b2(delta_index):\n",
    "    if delta_index >= loc_p:\n",
    "        raise RuntimeError(f\"Индекс коэффициента регрессии может принимать только значения от 0 до {loc_p-1}!\")\n",
    "    return main_regr.beta[delta_index]/(main_regr.RSS*main_regr.Finv[delta_index][delta_index])**0.5*(volume - loc_p)**0.5\n",
    "\n",
    "def get_pvalue_b2(fr): # распределение Стьюдента\n",
    "    fr = abs(fr)\n",
    "    k = volume-loc_p\n",
    "    def f(x):\n",
    "        return math.gamma((k+1)/2)/((k*math.pi)**0.5 * math.gamma(k/2) * (1 + x**2/k)**((k+1)/2))\n",
    "    ret, _ = quad(f, fr, math.inf)\n",
    "    return 2*ret\n",
    "\n",
    "for i in range(loc_p):\n",
    "    delta = delta_assessment_b2(i)\n",
    "    pval = get_pvalue_b2(delta)\n",
    "    if pval > pval_less_important:\n",
    "        pval_less_important = pval\n",
    "        index_less_important = i\n",
    "    if pval > alpha:\n",
    "        print(f\"Коэффициент {beta_repr}{low_indexes[i]} не является значимым\")\n",
    "    else:\n",
    "        print(f\"Коэффициент {beta_repr}{low_indexes[i]} значим!\")"
   ]
  },
  {
   "cell_type": "code",
   "execution_count": null,
   "metadata": {},
   "outputs": [],
   "source": [
    "print(f\"R² = {round(new_regr.R2, 3)}\")"
   ]
  },
  {
   "cell_type": "code",
   "execution_count": null,
   "metadata": {},
   "outputs": [],
   "source": [
    "delta = new_regr.R2/(1-new_regr.R2)*(volume - loc_p)/(loc_p-1)\n",
    "\n",
    "def get_pvalue_c(fr): # распределение Фишера\n",
    "    d1 = loc_p - 1\n",
    "    d2 = volume - loc_p\n",
    "    def f(x):\n",
    "        return (((d1*x)**d1 * d2**d2) / (d1*x+d2)**(d1+d2))**0.5 / \\\n",
    "                (x * math.gamma(d1/2)*math.gamma(d2/2)/math.gamma((d1+d2)/2))\n",
    "    ret, _ = quad(f, fr, math.inf)\n",
    "    return ret\n",
    "\n",
    "pval = get_pvalue_c(delta)\n",
    "if pval < alpha:\n",
    "    print(f\"Гипотеза о незначимости регрессии отвергается, коэффициент детерминации является значимым\")\n",
    "else:\n",
    "    print(f\"Гипотеза о незначимости регрессии принимается\")\n",
    "    \n",
    "print(f\"Значение pvalue = {pval}\")\n",
    "    "
   ]
  },
  {
   "cell_type": "markdown",
   "metadata": {},
   "source": [
    "## Пункт $k$. Сравнение уравнений двух регрессии бутстрапом"
   ]
  },
  {
   "cell_type": "code",
   "execution_count": null,
   "metadata": {},
   "outputs": [],
   "source": [
    "def get_simplified_sample(without_ksi_n, sample):\n",
    "    ret = []\n",
    "    for el in sample:\n",
    "        string = el\n",
    "        if without_ksi_n == 0:\n",
    "            string = string[1:]\n",
    "        else:\n",
    "            string = string[:without_ksi_n] + string[without_ksi_n+1:]\n",
    "            \n",
    "        ret.append(string)\n",
    "        \n",
    "    return ret\n",
    "\n",
    "main_sample = x.copy()\n",
    "\n",
    "LL = 1000\n",
    "\n",
    "deltas = []\n",
    "\n",
    "for i in range(LL):\n",
    "    main_subsample = random.choices(main_sample, k=volume)\n",
    "    simplified_subsample = get_simplified_sample(without_ksi_n=index_less_important-1, sample=main_subsample)\n",
    "    PSI1, Y1 = get_PSI_and_Y(main_subsample)\n",
    "    curr_main_r = linear_resression(PSI = PSI1, Y = Y1)\n",
    "    PSI2, Y2 = get_PSI_and_Y(simplified_subsample)\n",
    "    curr_simple_r = linear_resression(PSI = PSI2, Y = Y2)\n",
    "    deltas.append(curr_main_r.R2 - curr_simple_r.R2)\n",
    "    \n",
    "deltas.sort()\n",
    "delta_assessment = main_regr.R2 - new_regr.R2\n",
    "pval = 0\n",
    "for i in range(len(deltas)):\n",
    "    if delta_assessment > deltas[i] and delta_assessment <= deltas[i+1]:\n",
    "        pval = i/LL\n",
    "        print(f\"Pvalue сравнения двух регрессий бутстрапом: {pval}\\n\")\n",
    "        break\n",
    "        \n",
    "if pval > alpha:\n",
    "    print(\"Нет оснований отвергать упрощенную версию регрессии\")\n",
    "else:\n",
    "    print(\"Новая упрощенная регрессия сильно хуже, ее стоит отвергнуть\")"
   ]
  },
  {
   "cell_type": "code",
   "execution_count": null,
   "metadata": {},
   "outputs": [],
   "source": []
  }
 ],
 "metadata": {
  "kernelspec": {
   "display_name": "Python 3 (ipykernel)",
   "language": "python",
   "name": "python3"
  },
  "language_info": {
   "codemirror_mode": {
    "name": "ipython",
    "version": 3
   },
   "file_extension": ".py",
   "mimetype": "text/x-python",
   "name": "python",
   "nbconvert_exporter": "python",
   "pygments_lexer": "ipython3",
   "version": "3.8.10"
  }
 },
 "nbformat": 4,
 "nbformat_minor": 2
}
