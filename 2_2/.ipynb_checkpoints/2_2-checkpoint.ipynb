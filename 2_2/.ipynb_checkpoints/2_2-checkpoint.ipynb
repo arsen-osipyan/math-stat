{
 "cells": [
  {
   "cell_type": "markdown",
   "id": "131cecb3",
   "metadata": {},
   "source": [
    "# Задание 2.2"
   ]
  },
  {
   "cell_type": "markdown",
   "id": "002dd411",
   "metadata": {},
   "source": [
    "В таблице приведены данные о содержании иммуноглобина $Ig A$ в сыворотке крови у больных пяти возрастных групп."
   ]
  },
  {
   "cell_type": "markdown",
   "id": "5b41f911",
   "metadata": {},
   "source": [
    "### Подключение библиотек и инициализация констант для реализации"
   ]
  },
  {
   "cell_type": "code",
   "execution_count": 1,
   "id": "27e69789",
   "metadata": {},
   "outputs": [],
   "source": [
    "import numpy as np\n",
    "import matplotlib.pyplot as plt\n",
    "import scipy as sp\n",
    "import math\n",
    "\n",
    "LOW_INDEX = ['₀', '₁', '₂', '₃', '₄', '₅', '₆', '₇', '₈', '₉']"
   ]
  },
  {
   "cell_type": "markdown",
   "id": "2e11a004",
   "metadata": {},
   "source": [
    "### Линейная регрессия"
   ]
  },
  {
   "cell_type": "code",
   "execution_count": 3,
   "id": "34e1a083",
   "metadata": {},
   "outputs": [],
   "source": [
    "class LinearRegression:\n",
    "    def __init__(self, Psi, Y):\n",
    "        self.Psi = Psi\n",
    "        self.Y = Y\n",
    "    \n",
    "    def beta_est(self):\n",
    "        return np.linalg.inv(self.Psi.T@self.Psi)@self.Psi.T@self.Y\n",
    "    \n",
    "    def RSS(self):\n",
    "        beta_est = self.beta_est()\n",
    "        return (self.Y - self.Psi@beta_est).T@(self.Y - self.Psi@beta_est)\n",
    "    \n",
    "    def TSS(self):\n",
    "        return np.sum([ (self.Y[i] - np.mean(self.Y))**2 for i in range(len(self.Y)) ])\n",
    "    \n",
    "    def e(self):\n",
    "        return self.Y - self.Psi @ self.beta_est()\n",
    "    \n",
    "    def R2(self):\n",
    "        RSS = self.RSS()\n",
    "        TSS = self.TSS()\n",
    "        return (TSS - RSS) / TSS\n",
    "    \n",
    "    def F(self):\n",
    "        return self.Psi.T@self.Psi"
   ]
  },
  {
   "cell_type": "markdown",
   "id": "1930ecdd",
   "metadata": {},
   "source": [
    "### Плотности нормального распределения и распределений Фишера и Стьюдента"
   ]
  },
  {
   "cell_type": "code",
   "execution_count": 4,
   "id": "f8d4d036",
   "metadata": {},
   "outputs": [],
   "source": [
    "def student_dist(n, x):\n",
    "    return sp.special.gamma((n+1)/2) * (np.pi*n)**(-0.5) * (sp.special.gamma(n/2))**(-1) * (1 + x**2 / n)**(-(n+1)/2)\n",
    "\n",
    "def fisher_dist(d1, d2, x):\n",
    "    return np.sqrt( ((d1*x)**d1 * d2**d2) / (d1*x + d2)**(d1+d2) ) / (x*sp.special.gamma(d1/2)*sp.special.gamma(d2/2)/sp.special.gamma(d1/2+d2/2))\n",
    "\n",
    "def normal_dist(a, std2, x):\n",
    "    return 1 / np.sqrt(2*np.pi*std2) * np.exp( -(x - a)**2 / (2*std2) )"
   ]
  },
  {
   "cell_type": "markdown",
   "id": "0acb670c",
   "metadata": {},
   "source": [
    "### Параметры задачи"
   ]
  },
  {
   "cell_type": "code",
   "execution_count": 9,
   "id": "93ade401",
   "metadata": {},
   "outputs": [],
   "source": [
    "data = {\n",
    "    1: np.array([83, 85]),\n",
    "    2: np.array([84, 85, 85, 86, 86, 87]),\n",
    "    3: np.array([86, 87, 87, 87, 88, 88, 88, 88, 88, 89, 90]),\n",
    "    4: np.array([89, 90, 90, 91]),\n",
    "    5: np.array([90, 92])\n",
    "}\n",
    "\n",
    "p = k = 5\n",
    "n = np.sum([len(data[i]) for i in range(1, k+1)])"
   ]
  },
  {
   "cell_type": "markdown",
   "id": "21cdd3df",
   "metadata": {},
   "source": [
    "### a) Определить влияние возраста на содержание иммуноглобина в крови с помощью регрессионного анализа."
   ]
  },
  {
   "cell_type": "code",
   "execution_count": 27,
   "id": "e5211477",
   "metadata": {},
   "outputs": [],
   "source": [
    "Psi = np.zeros((n, k))\n",
    "Y = np.zeros((n,))\n",
    "\n",
    "i = 0\n",
    "for k, v in data.items():\n",
    "    for j in range(len(data[k])):\n",
    "        Psi[i, k-1] = 1.0\n",
    "        Y[i] = data[k][j]\n",
    "        i += 1"
   ]
  },
  {
   "cell_type": "code",
   "execution_count": 35,
   "id": "d457d80f",
   "metadata": {},
   "outputs": [
    {
     "name": "stdout",
     "output_type": "stream",
     "text": [
      "𝜂 = 84.0·𝜉₀ + 85.5·𝜉₁ + 87.8182·𝜉₂ + 90.0·𝜉₃ + 91.0·𝜉₄\n"
     ]
    }
   ],
   "source": [
    "lr = LinearRegression(Psi, Y)\n",
    "beta_est = lr.beta_est()\n",
    "\n",
    "print(f\"𝜂 = \", end='')\n",
    "for i in range(k):\n",
    "    if i != 0:\n",
    "        print(f\" + \", end='')\n",
    "    print(f\"{round(beta_est[i], 4)}·𝜉{LOW_INDEX[i]}\", end='')\n",
    "print()"
   ]
  },
  {
   "cell_type": "markdown",
   "id": "2bd1a111",
   "metadata": {},
   "source": [
    "### b) Провести попарное сравнение средних в рамках регрессионной модели."
   ]
  },
  {
   "cell_type": "code",
   "execution_count": null,
   "id": "8ecae49b",
   "metadata": {},
   "outputs": [],
   "source": []
  }
 ],
 "metadata": {
  "kernelspec": {
   "display_name": "Python 3 (ipykernel)",
   "language": "python",
   "name": "python3"
  },
  "language_info": {
   "codemirror_mode": {
    "name": "ipython",
    "version": 3
   },
   "file_extension": ".py",
   "mimetype": "text/x-python",
   "name": "python",
   "nbconvert_exporter": "python",
   "pygments_lexer": "ipython3",
   "version": "3.8.10"
  }
 },
 "nbformat": 4,
 "nbformat_minor": 5
}
