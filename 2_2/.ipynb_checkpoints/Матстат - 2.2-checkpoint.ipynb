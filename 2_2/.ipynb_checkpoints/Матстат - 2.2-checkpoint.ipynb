{
 "cells": [
  {
   "cell_type": "code",
   "execution_count": 123,
   "metadata": {},
   "outputs": [],
   "source": [
    "import math\n",
    "import numpy as np\n",
    "import random\n",
    "import matplotlib.pyplot as plt\n",
    "from scipy.integrate import quad\n",
    "%matplotlib inline\n",
    "\n",
    "low_indexes  = ['₀', '₁', '₂', '₃', '₄', '₅']\n",
    "\n",
    "\n",
    "x = [[83, 85],\n",
    "    [84,85,85,86,86,87],\n",
    "    [86,87,87,87,88,88,88,88,88,89,90],\n",
    "    [89,90,90,91],\n",
    "    [90,92]]\n",
    "\n",
    "    \n",
    "x1 = [1,0,0,0,0]\n",
    "x2 = [0,1,0,0,0]\n",
    "x3 = [0,0,1,0,0]\n",
    "x4 = [0,0,0,1,0]\n",
    "x5 = [0,0,0,0,1]\n",
    "\n",
    "\n",
    "# x = [[1,2,3,1,0,2,1],\n",
    "#      [2,3,2,1,4],\n",
    "#      [4,5,3]]\n",
    "\n",
    "# x1 = [1,0,0]\n",
    "# x2 = [0,1,0]\n",
    "# x3 = [0,0,1]\n",
    "\n",
    "\n",
    "volume = 0\n",
    "for el in x:\n",
    "    volume += len(el)\n",
    "alpha = 0.05\n",
    "p = len(x)\n",
    "\n",
    "# PSI = np.array([x1 for i in range(len(x[0]))] + [x2 for i in range(len(x[1]))] + [x3 for i in range(len(x[2]))])\n",
    "# Y = np.array([el for ell in x for el in ell]).T\n",
    "\n",
    "class linear_resression():\n",
    "    def __init__(self, Y, PSI):\n",
    "        self.Y = Y\n",
    "        self.PSI = PSI\n",
    "        self._calc()\n",
    "    \n",
    "    def _calc(self):\n",
    "        self.Finv = np.linalg.inv(self.PSI.T.dot(self.PSI))\n",
    "        self.beta = self.Finv.dot(self.PSI.T).dot(self.Y)\n",
    "        self.e = self.Y - self.PSI.dot(self.beta)\n",
    "        self.RSS = self.e.T.dot(self.e)\n",
    "\n",
    "        y_mean = sum(self.Y)/len(self.Y)\n",
    "        TSS = 0\n",
    "        for el in self.Y:\n",
    "            TSS += (el - y_mean)**2\n",
    "        self.TSS = TSS\n",
    "        self.R2 = (self.TSS - self.RSS)/self.TSS\n",
    "\n"
   ]
  },
  {
   "cell_type": "markdown",
   "metadata": {},
   "source": [
    "## Нахождение уравнения линейной регрессии"
   ]
  },
  {
   "cell_type": "code",
   "execution_count": 125,
   "metadata": {},
   "outputs": [
    {
     "name": "stdout",
     "output_type": "stream",
     "text": [
      "Уравнение регрессии: y = 84.0∙x₁ + 85.5∙x₂ + 87.82∙x₃ + 90.0∙x₄ + 91.0∙x₅\n"
     ]
    }
   ],
   "source": [
    "PSI = np.array([x1 for i in range(len(x[0]))] + [x2 for i in range(len(x[1]))] + [x3 for i in range(len(x[2]))] + \\\n",
    "        [x4 for i in range(len(x[3]))] + [x5 for i in range(len(x[4]))])\n",
    "                                           \n",
    "Y = np.array([el for ell in x for el in ell])\n",
    "\n",
    "def format_equation(beta):\n",
    "    ret = f\"Уравнение регрессии: y = {round(beta[0], 2)}∙x{low_indexes[1]}\"\n",
    "    for i in range(1, len(beta)):\n",
    "        number = round(beta[i], 2)\n",
    "        if number > 0:\n",
    "            ret += f\" + {number}∙x{low_indexes[i+1]}\"\n",
    "        else:\n",
    "            ret += f\" - {-number}∙x{low_indexes[i+1]}\"\n",
    "    return ret\n",
    "\n",
    "main_regr = linear_resression(PSI = PSI, Y = Y)\n",
    "print(format_equation(main_regr.beta))\n"
   ]
  },
  {
   "cell_type": "markdown",
   "metadata": {},
   "source": [
    "## Проверка значимости коэффициентов регрессии"
   ]
  },
  {
   "cell_type": "code",
   "execution_count": 126,
   "metadata": {},
   "outputs": [
    {
     "name": "stdout",
     "output_type": "stream",
     "text": [
      "Коэффициент x₁ значим!\n",
      "Коэффициент x₂ значим!\n",
      "Коэффициент x₃ значим!\n",
      "Коэффициент x₄ значим!\n",
      "Коэффициент x₅ значим!\n"
     ]
    }
   ],
   "source": [
    "def delta_assessment_b2(delta_index):\n",
    "    if delta_index >= p:\n",
    "        raise RuntimeError(f\"Индекс коэффициента регрессии может принимать только значения от 0 до {p-1}!\")\n",
    "    return main_regr.beta[delta_index]/(main_regr.RSS*main_regr.Finv[delta_index][delta_index])**0.5*(volume - p)**0.5\n",
    "\n",
    "def get_pvalue_b2(fr): # распределение Стьюдента\n",
    "    fr = abs(fr)\n",
    "    k = volume-p\n",
    "    def f(x):\n",
    "        return math.gamma((k+1)/2)/((k*math.pi)**0.5 * math.gamma(k/2) * (1 + x**2/k)**((k+1)/2))\n",
    "    ret, _ = quad(f, fr, math.inf)\n",
    "    return 2*ret\n",
    "\n",
    "\n",
    "for i in range(p):\n",
    "    delta = delta_assessment_b2(i)\n",
    "    pval = get_pvalue_b2(delta)\n",
    "    if pval > alpha:\n",
    "        print(f\"Коэффициент перед x{low_indexes[i+1]} не является значимым\")\n",
    "    else:\n",
    "        print(f\"Коэффициент x{low_indexes[i+1]} значим!\")\n"
   ]
  },
  {
   "cell_type": "markdown",
   "metadata": {},
   "source": [
    "## Некоторые параметры регрессии"
   ]
  },
  {
   "cell_type": "code",
   "execution_count": 127,
   "metadata": {},
   "outputs": [
    {
     "name": "stdout",
     "output_type": "stream",
     "text": [
      "R² = 0.811\n",
      "RSS = 23.136\n",
      "TSS = 122.16\n"
     ]
    }
   ],
   "source": [
    "print(f\"R² = {round(main_regr.R2, 3)}\")\n",
    "print(f\"RSS = {round(main_regr.RSS, 3)}\")\n",
    "print(f\"TSS = {round(main_regr.TSS, 3)}\")"
   ]
  },
  {
   "cell_type": "markdown",
   "metadata": {},
   "source": [
    "## Попарное сравнение однородности групп\n"
   ]
  },
  {
   "cell_type": "markdown",
   "metadata": {},
   "source": [
    "## $H_0: \\beta_i = \\beta_j$\n",
    "## $H_1: \\beta_i \\ne \\beta_j$\n",
    "## $\\Delta = \\frac{\\widetilde\\beta_i - \\widetilde\\beta_j}{ \\sqrt{ RSS( F_{ii}^{-1} + F_{jj}^{-1}} )} \\sqrt{n-p} \\sim t(n-p)$"
   ]
  },
  {
   "cell_type": "code",
   "execution_count": 128,
   "metadata": {},
   "outputs": [
    {
     "name": "stdout",
     "output_type": "stream",
     "text": [
      "Группы 1 и 2 можно считать однородными\n",
      "Группы 1 и 3 нельзя считать однородными!\n",
      "Группы 1 и 4 нельзя считать однородными!\n",
      "Группы 1 и 5 нельзя считать однородными!\n",
      "Группы 2 и 3 нельзя считать однородными!\n",
      "Группы 2 и 4 нельзя считать однородными!\n",
      "Группы 2 и 5 нельзя считать однородными!\n",
      "Группы 3 и 4 нельзя считать однородными!\n",
      "Группы 3 и 5 нельзя считать однородными!\n",
      "Группы 4 и 5 можно считать однородными\n"
     ]
    }
   ],
   "source": [
    "def check_uniformity(a,b):\n",
    "    coef = (volume - p)**0.5 / (main_regr.RSS * (main_regr.Finv[a][a] + main_regr.Finv[b][b]))**0.5\n",
    "    delta_assessment = (main_regr.beta[a] - main_regr.beta[b]) * coef\n",
    "    pval = get_pvalue_b2(delta_assessment)    \n",
    "\n",
    "    if pval < alpha:\n",
    "        print(f\"Группы {a+1} и {b+1} нельзя считать однородными!\")\n",
    "    else:\n",
    "        print(f\"Группы {a+1} и {b+1} можно считать однородными\")\n",
    "\n",
    "for i in range(p):\n",
    "    for j in range(i+1,p):\n",
    "        check_uniformity(i, j)"
   ]
  },
  {
   "cell_type": "code",
   "execution_count": null,
   "metadata": {},
   "outputs": [],
   "source": []
  }
 ],
 "metadata": {
  "kernelspec": {
   "display_name": "Python 3 (ipykernel)",
   "language": "python",
   "name": "python3"
  },
  "language_info": {
   "codemirror_mode": {
    "name": "ipython",
    "version": 3
   },
   "file_extension": ".py",
   "mimetype": "text/x-python",
   "name": "python",
   "nbconvert_exporter": "python",
   "pygments_lexer": "ipython3",
   "version": "3.8.10"
  }
 },
 "nbformat": 4,
 "nbformat_minor": 2
}
