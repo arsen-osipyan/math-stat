{
 "cells": [
  {
   "cell_type": "markdown",
   "id": "131cecb3",
   "metadata": {},
   "source": [
    "# Задание 2.2"
   ]
  },
  {
   "cell_type": "markdown",
   "id": "002dd411",
   "metadata": {},
   "source": [
    "В таблице приведены данные о содержании иммуноглобина $Ig A$ в сыворотке крови у больных пяти возрастных групп."
   ]
  },
  {
   "cell_type": "markdown",
   "id": "5b41f911",
   "metadata": {},
   "source": [
    "### Подключение библиотек и инициализация констант для реализации"
   ]
  },
  {
   "cell_type": "code",
   "execution_count": 2,
   "id": "27e69789",
   "metadata": {},
   "outputs": [],
   "source": [
    "import numpy as np\n",
    "import matplotlib.pyplot as plt\n",
    "import scipy as sp\n",
    "import math\n",
    "\n",
    "LOW_INDEX = ['₀', '₁', '₂', '₃', '₄', '₅', '₆', '₇', '₈', '₉']"
   ]
  },
  {
   "cell_type": "markdown",
   "id": "2e11a004",
   "metadata": {},
   "source": [
    "### Линейная регрессия"
   ]
  },
  {
   "cell_type": "code",
   "execution_count": 3,
   "id": "34e1a083",
   "metadata": {},
   "outputs": [],
   "source": [
    "class LinearRegression:\n",
    "    def __init__(self, Psi, Y):\n",
    "        self.Psi = Psi\n",
    "        self.Y = Y\n",
    "    \n",
    "    def beta_est(self):\n",
    "        return np.linalg.inv(self.Psi.T@self.Psi)@self.Psi.T@self.Y\n",
    "    \n",
    "    def RSS(self):\n",
    "        beta_est = self.beta_est()\n",
    "        return (self.Y - self.Psi@beta_est).T@(self.Y - self.Psi@beta_est)\n",
    "    \n",
    "    def TSS(self):\n",
    "        return np.sum([ (self.Y[i] - np.mean(self.Y))**2 for i in range(len(self.Y)) ])\n",
    "    \n",
    "    def e(self):\n",
    "        return self.Y - self.Psi @ self.beta_est()\n",
    "    \n",
    "    def R2(self):\n",
    "        RSS = self.RSS()\n",
    "        TSS = self.TSS()\n",
    "        return (TSS - RSS) / TSS\n",
    "    \n",
    "    def F(self):\n",
    "        return self.Psi.T@self.Psi"
   ]
  },
  {
   "cell_type": "markdown",
   "id": "1930ecdd",
   "metadata": {},
   "source": [
    "### Плотности нормального распределения и распределений Фишера и Стьюдента"
   ]
  },
  {
   "cell_type": "code",
   "execution_count": 50,
   "id": "f8d4d036",
   "metadata": {},
   "outputs": [],
   "source": [
    "def student_dist(n, x):\n",
    "    return sp.special.gamma((n+1)/2) * (np.pi*n)**(-0.5) * (sp.special.gamma(n/2))**(-1) * (1 + x**2 / n)**(-(n+1)/2)\n",
    "\n",
    "def fisher_dist(d1, d2, x):\n",
    "    return np.sqrt((d1*x / (d1*x + d2))**d1 * (d2 / (d1*x + d2))**d2) / (x*sp.special.gamma(d1/2)*sp.special.gamma(d2/2)/sp.special.gamma(d1/2+d2/2))\n",
    "\n",
    "def normal_dist(a, std2, x):\n",
    "    return 1 / np.sqrt(2*np.pi*std2) * np.exp( -(x - a)**2 / (2*std2) )"
   ]
  },
  {
   "cell_type": "markdown",
   "id": "0acb670c",
   "metadata": {},
   "source": [
    "### Параметры задачи"
   ]
  },
  {
   "cell_type": "code",
   "execution_count": 51,
   "id": "93ade401",
   "metadata": {},
   "outputs": [],
   "source": [
    "# Таблица значений\n",
    "data = {\n",
    "    1: np.array([83, 85]),\n",
    "    2: np.array([84, 85, 85, 86, 86, 87]),\n",
    "    3: np.array([86, 87, 87, 87, 88, 88, 88, 88, 88, 89, 90]),\n",
    "    4: np.array([89, 90, 90, 91]),\n",
    "    5: np.array([90, 92])\n",
    "}\n",
    "\n",
    "# Количество факторов\n",
    "p = k = 5\n",
    "\n",
    "# Количество элементов выборки\n",
    "n = np.sum([len(data[i]) for i in range(1, k+1)])\n",
    "\n",
    "# Доверительное значение для принятия / отвержения гипотез\n",
    "alpha = 0.05"
   ]
  },
  {
   "cell_type": "markdown",
   "id": "21cdd3df",
   "metadata": {},
   "source": [
    "### a) Определить влияние возраста на содержание иммуноглобина в крови с помощью регрессионного анализа."
   ]
  },
  {
   "cell_type": "markdown",
   "id": "e2f2f935",
   "metadata": {},
   "source": [
    "Построим матрицу наблюдений $\\Psi$ и вектор отклика $Y$.\n",
    "В качестве факторов возьмем $\\xi_k$, где $k=1..5$ - $\\xi_k = 1$, если текущее значение иммуноглобина взято с возрастной группы $k$, иначе $\\xi_k = 0$. "
   ]
  },
  {
   "cell_type": "code",
   "execution_count": 52,
   "id": "e5211477",
   "metadata": {},
   "outputs": [],
   "source": [
    "Psi = np.zeros((n, k))\n",
    "Y = np.zeros((n,))\n",
    "\n",
    "i = 0\n",
    "for k, v in data.items():\n",
    "    for j in range(len(data[k])):\n",
    "        Psi[i, k-1] = 1.0\n",
    "        Y[i] = data[k][j]\n",
    "        i += 1"
   ]
  },
  {
   "cell_type": "markdown",
   "id": "21fd4d22",
   "metadata": {},
   "source": [
    "Построим линейную регрессию и выведем уравнение регрессии."
   ]
  },
  {
   "cell_type": "code",
   "execution_count": 53,
   "id": "d457d80f",
   "metadata": {},
   "outputs": [
    {
     "name": "stdout",
     "output_type": "stream",
     "text": [
      "𝜂 = 84.0·𝜉₀ + 85.5·𝜉₁ + 87.8182·𝜉₂ + 90.0·𝜉₃ + 91.0·𝜉₄\n"
     ]
    }
   ],
   "source": [
    "lr = LinearRegression(Psi, Y)\n",
    "beta_est = lr.beta_est()\n",
    "\n",
    "print(f\"𝜂 = \", end='')\n",
    "for i in range(k):\n",
    "    if i != 0:\n",
    "        print(f\" + \", end='')\n",
    "    print(f\"{round(beta_est[i], 4)}·𝜉{LOW_INDEX[i]}\", end='')\n",
    "print()"
   ]
  },
  {
   "cell_type": "markdown",
   "id": "2da4d516",
   "metadata": {},
   "source": [
    "Проверим значимости коэффициентов $\\beta_k$."
   ]
  },
  {
   "cell_type": "code",
   "execution_count": 54,
   "id": "b59e61f4",
   "metadata": {},
   "outputs": [
    {
     "name": "stdout",
     "output_type": "stream",
     "text": [
      "Исследование значимости коэффициента 𝛽₀:\n",
      "Δ₀ = 110.449; p-value₀ = 0.0 => Отвергаем гипотезу о незначимости коэффициента 𝛽₀.\n",
      "\n",
      "Исследование значимости коэффициента 𝛽₁:\n",
      "Δ₁ = 194.7194; p-value₁ = 0.0 => Отвергаем гипотезу о незначимости коэффициента 𝛽₁.\n",
      "\n",
      "Исследование значимости коэффициента 𝛽₂:\n",
      "Δ₂ = 270.7997; p-value₂ = 0.0 => Отвергаем гипотезу о незначимости коэффициента 𝛽₂.\n",
      "\n",
      "Исследование значимости коэффициента 𝛽₃:\n",
      "Δ₃ = 167.3555; p-value₃ = 0.0 => Отвергаем гипотезу о незначимости коэффициента 𝛽₃.\n",
      "\n",
      "Исследование значимости коэффициента 𝛽₄:\n",
      "Δ₄ = 119.6531; p-value₄ = 0.0 => Отвергаем гипотезу о незначимости коэффициента 𝛽₄.\n",
      "\n"
     ]
    }
   ],
   "source": [
    "F_inv = np.linalg.inv(lr.F())\n",
    "RSS = lr.RSS()\n",
    "\n",
    "for i in range(p):\n",
    "    print(f\"Исследование значимости коэффициента 𝛽{LOW_INDEX[i]}:\")\n",
    "    \n",
    "    delta = beta_est[i] * np.sqrt(n - p) / np.sqrt(RSS * F_inv[i, i])\n",
    "    print(f\"Δ{LOW_INDEX[i]} = {round(delta, 4)}; \", end='')\n",
    "    \n",
    "    p_value = 2 * sp.integrate.quad(lambda x : student_dist(n - p, x), np.abs(delta), +math.inf)[0]\n",
    "    print(f\"p-value{LOW_INDEX[i]} = {round(p_value, 4)}\", end=' ')\n",
    "    \n",
    "    if (p_value > alpha):\n",
    "        print(f\"=> Нет оснований отвергнуть гипотезу о незначимости коэффициента 𝛽{LOW_INDEX[i]}.\")\n",
    "    else:\n",
    "        print(f\"=> Отвергаем гипотезу о незначимости коэффициента 𝛽{LOW_INDEX[i]}.\")\n",
    "    print()"
   ]
  },
  {
   "cell_type": "markdown",
   "id": "1f85647b",
   "metadata": {},
   "source": [
    "Определим коэффициенты $RSS$, $TSS$ и коэффициент детерминации регрессии $R^2$."
   ]
  },
  {
   "cell_type": "code",
   "execution_count": 55,
   "id": "0e2c92fc",
   "metadata": {},
   "outputs": [
    {
     "name": "stdout",
     "output_type": "stream",
     "text": [
      "RSS = 23.1364\n",
      "TSS = 122.16\n",
      "R² = 0.8106\n"
     ]
    }
   ],
   "source": [
    "print(f\"RSS = {round(lr.RSS(), 4)}\")\n",
    "print(f\"TSS = {round(lr.TSS(), 4)}\")\n",
    "print(f\"R² = {round(lr.R2(), 4)}\")"
   ]
  },
  {
   "cell_type": "markdown",
   "id": "0e161c1b",
   "metadata": {},
   "source": [
    "Проверим значимость коэффициента детерминации $R^2$."
   ]
  },
  {
   "cell_type": "code",
   "execution_count": 58,
   "id": "7ce1467f",
   "metadata": {},
   "outputs": [
    {
     "name": "stdout",
     "output_type": "stream",
     "text": [
      "Δ = 21.4; p-value = 5.407410946440232e-07 => Отвергаем гипотезу о незначимости коэффициента R².\n"
     ]
    }
   ],
   "source": [
    "R2 = lr.R2()\n",
    "\n",
    "delta = R2 / (1 - R2) * (n - p) / (p - 1)\n",
    "print(f\"Δ = {round(delta, 4)};\", end=' ')\n",
    "\n",
    "p_value = sp.integrate.quad(lambda x : fisher_dist(p - 1, n - p, x), delta, +math.inf)[0]\n",
    "print(f\"p-value = {p_value}\", end=' ')\n",
    "\n",
    "if p_value < alpha:\n",
    "    print(f\"=> Отвергаем гипотезу о незначимости коэффициента R².\")\n",
    "else:\n",
    "    print(f\"=> Нет оснований отвергнуть гипотезу о незначимости коэффициента R².\")"
   ]
  },
  {
   "cell_type": "markdown",
   "id": "2bd1a111",
   "metadata": {},
   "source": [
    "### b) Провести попарное сравнение средних в рамках регрессионной модели."
   ]
  },
  {
   "cell_type": "code",
   "execution_count": 68,
   "id": "8ecae49b",
   "metadata": {},
   "outputs": [
    {
     "name": "stdout",
     "output_type": "stream",
     "text": [
      "Сравнение средних для возрастных групп 1 и 2:\n",
      "Δ₁₂ = -1.7081\n",
      "p_value₁₂ = 0.1031\n",
      "=> Нет оснований отвергнуть гипотезу однородности возрастных групп 1 и 2.\n",
      "\n",
      "Сравнение средних для возрастных групп 1 и 3:\n",
      "Δ₁₃ = -4.6181\n",
      "p_value₁₃ = 0.0002\n",
      "=> Отвергаем гипотезу однородности возрастных групп 1 и 3.\n",
      "\n",
      "Сравнение средних для возрастных групп 1 и 4:\n",
      "Δ₁₄ = -6.4415\n",
      "p_value₁₄ = 0.0\n",
      "=> Отвергаем гипотезу однородности возрастных групп 1 и 4.\n",
      "\n",
      "Сравнение средних для возрастных групп 1 и 5:\n",
      "Δ₁₅ = -6.5083\n",
      "p_value₁₅ = 0.0\n",
      "=> Отвергаем гипотезу однородности возрастных групп 1 и 5.\n",
      "\n",
      "Сравнение средних для возрастных групп 2 и 3:\n",
      "Δ₂₃ = -4.2468\n",
      "p_value₂₃ = 0.0004\n",
      "=> Отвергаем гипотезу однородности возрастных групп 2 и 3.\n",
      "\n",
      "Сравнение средних для возрастных групп 2 и 4:\n",
      "Δ₂₄ = -6.4817\n",
      "p_value₂₄ = 0.0\n",
      "=> Отвергаем гипотезу однородности возрастных групп 2 и 4.\n",
      "\n",
      "Сравнение средних для возрастных групп 2 и 5:\n",
      "Δ₂₅ = -6.2629\n",
      "p_value₂₅ = 0.0\n",
      "=> Отвергаем гипотезу однородности возрастных групп 2 и 5.\n",
      "\n",
      "Сравнение средних для возрастных групп 3 и 4:\n",
      "Δ₃₄ = -3.4743\n",
      "p_value₃₄ = 0.0024\n",
      "=> Отвергаем гипотезу однородности возрастных групп 3 и 4.\n",
      "\n",
      "Сравнение средних для возрастных групп 3 и 5:\n",
      "Δ₃₅ = -3.8484\n",
      "p_value₃₅ = 0.001\n",
      "=> Отвергаем гипотезу однородности возрастных групп 3 и 5.\n",
      "\n",
      "Сравнение средних для возрастных групп 4 и 5:\n",
      "Δ₄₅ = -1.0736\n",
      "p_value₄₅ = 0.2958\n",
      "=> Нет оснований отвергнуть гипотезу однородности возрастных групп 4 и 5.\n",
      "\n"
     ]
    }
   ],
   "source": [
    "F_inv = np.linalg.inv(lr.F())\n",
    "RSS = lr.RSS()\n",
    "\n",
    "for i in range(p-1):\n",
    "    for j in range(i+1, p):\n",
    "        print(f\"Сравнение средних для возрастных групп {i+1} и {j+1}:\")\n",
    "        beta_i = beta_est[i]\n",
    "        beta_j = beta_est[j]\n",
    "        \n",
    "        delta = (beta_i - beta_j) * np.sqrt(n - p) / np.sqrt(RSS * (F_inv[i, i] + F_inv[j, j]))\n",
    "        print(f\"Δ{LOW_INDEX[i+1]}{LOW_INDEX[j+1]} = {round(delta, 4)}\")\n",
    "        \n",
    "        p_value = 2 * sp.integrate.quad(lambda x : student_dist(n - p, x), np.abs(delta), +math.inf)[0]\n",
    "        print(f\"p_value{LOW_INDEX[i+1]}{LOW_INDEX[j+1]} = {round(p_value, 4)}\")\n",
    "        \n",
    "        if p_value < alpha:\n",
    "            print(f\"=> Отвергаем гипотезу однородности возрастных групп {i+1} и {j+1}.\")\n",
    "        else:\n",
    "            print(f\"=> Нет оснований отвергнуть гипотезу однородности возрастных групп {i+1} и {j+1}.\")\n",
    "        print()"
   ]
  }
 ],
 "metadata": {
  "kernelspec": {
   "display_name": "Python 3 (ipykernel)",
   "language": "python",
   "name": "python3"
  },
  "language_info": {
   "codemirror_mode": {
    "name": "ipython",
    "version": 3
   },
   "file_extension": ".py",
   "mimetype": "text/x-python",
   "name": "python",
   "nbconvert_exporter": "python",
   "pygments_lexer": "ipython3",
   "version": "3.8.10"
  }
 },
 "nbformat": 4,
 "nbformat_minor": 5
}
